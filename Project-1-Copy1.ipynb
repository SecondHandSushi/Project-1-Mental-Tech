{
 "cells": [
  {
   "cell_type": "markdown",
   "metadata": {},
   "source": [
    "Project 1 - Mental Health in Tech\n",
    "\n",
    "By: Matthew Idle, Chad Fletcher, Lori Vitaioli, Brady Ogega, Cindy Hansel, Heather Shoberg, Jennifer White"
   ]
  },
  {
   "cell_type": "code",
   "execution_count": 14,
   "metadata": {},
   "outputs": [],
   "source": [
    "# Dependencies and Setup\n",
    "import matplotlib.pyplot as plt\n",
    "import pandas as pd\n",
    "import scipy.stats as st\n",
    "from pprint import pprint\n",
    "from pathlib import Path\n",
    "\n",
    "# File locations\n",
    "survey_2014 = \"Resources/2014-survey.csv\"\n",
    "survey_2016 = \"Resources/2016-survey.csv\"\n",
    "survey_2017 = \"Resources/2017-survey.csv\"\n",
    "survey_2018 = \"Resources/2018-survey.csv\"\n",
    "survey_2019 = \"Resources/2019-survey.csv\"\n",
    "\n",
    "# Reading the data\n",
    "s_2014_data = pd.read_csv(survey_2014)\n",
    "s_2016_data = pd.read_csv(survey_2016)\n",
    "s_2017_data = pd.read_csv(survey_2017)\n",
    "s_2018_data = pd.read_csv(survey_2018)\n",
    "s_2019_data = pd.read_csv(survey_2019)\n"
   ]
  },
  {
   "cell_type": "code",
   "execution_count": 15,
   "metadata": {},
   "outputs": [
    {
     "data": {
      "text/plain": [
       "Index(['*Are you self-employed?*',\n",
       "       'How many employees does your company or organization have?',\n",
       "       'Is your employer primarily a tech company/organization?',\n",
       "       'Is your primary role within your company related to tech/IT?',\n",
       "       'Does your employer provide mental health benefits as part of healthcare coverage?',\n",
       "       'Do you know the options for mental health care available under your employer-provided health coverage?',\n",
       "       'Has your employer ever formally discussed mental health (for example, as part of a wellness campaign or other official communication)?',\n",
       "       'Does your employer offer resources to learn more about mental health disorders and options for seeking help?',\n",
       "       'Is your anonymity protected if you choose to take advantage of mental health or substance abuse treatment resources provided by your employer?',\n",
       "       'If a mental health issue prompted you to request a medical leave from work, how easy or difficult would it be to ask for that leave?',\n",
       "       'Would you feel more comfortable talking to your coworkers about your physical health or your mental health?',\n",
       "       'Would you feel comfortable discussing a mental health issue with your direct supervisor(s)?',\n",
       "       'Have you ever discussed your mental health with your employer?',\n",
       "       'Describe the conversation you had with your employer about your mental health, including their reactions and what actions were taken to address your mental health issue/questions.',\n",
       "       'Would you feel comfortable discussing a mental health issue with your coworkers?',\n",
       "       'Have you ever discussed your mental health with coworkers?',\n",
       "       'Describe the conversation with coworkers you had about your mental health including their reactions.',\n",
       "       'Have you ever had a coworker discuss their or another coworker's mental health with you?',\n",
       "       'Describe the conversation your coworker had with you about their mental health (please do not use names).',\n",
       "       'Overall, how much importance does your employer place on physical health?',\n",
       "       'Overall, how much importance does your employer place on mental health?',\n",
       "       'Do you have medical coverage (private insurance or state-provided) that includes treatment of mental health disorders?',\n",
       "       'Do you know local or online resources to seek help for a mental health issue?',\n",
       "       'If you have been diagnosed or treated for a mental health disorder, do you ever reveal this to clients or business contacts?',\n",
       "       'If you have revealed a mental health disorder to a client or business contact, how has this affected you or the relationship?',\n",
       "       'If you have been diagnosed or treated for a mental health disorder, do you ever reveal this to coworkers or employees?',\n",
       "       'If you have revealed a mental health disorder to a coworker or employee, how has this impacted you or the relationship?',\n",
       "       'Do you believe your productivity is ever affected by a mental health issue?',\n",
       "       'If yes, what percentage of your work time (time performing primary or secondary job functions) is affected by a mental health issue?',\n",
       "       '*Do you have previous employers?*',\n",
       "       'Was your employer primarily a tech company/organization?',\n",
       "       'Have your previous employers provided mental health benefits?',\n",
       "       'Were you aware of the options for mental health care provided by your previous employers?',\n",
       "       'Did your previous employers ever formally discuss mental health (as part of a wellness campaign or other official communication)?',\n",
       "       'Did your previous employers provide resources to learn more about mental health disorders and how to seek help?',\n",
       "       'Was your anonymity protected if you chose to take advantage of mental health or substance abuse treatment resources with previous employers?',\n",
       "       'Would you have felt more comfortable talking to your previous employer about your physical health or your mental health?',\n",
       "       'Would you have been willing to discuss your mental health with your direct supervisor(s)?',\n",
       "       'Did you ever discuss your mental health with your previous employer?',\n",
       "       'Describe the conversation you had with your previous employer about your mental health, including their reactions and actions taken to address your mental health issue/questions.',\n",
       "       'Would you have been willing to discuss your mental health with your coworkers at previous employers?',\n",
       "       'Did you ever discuss your mental health with a previous coworker(s)?',\n",
       "       'Describe the conversation you had with your previous coworkers about your mental health including their reactions.',\n",
       "       'Did you ever have a previous coworker discuss their or another coworker's mental health with you?',\n",
       "       'Describe the conversation your coworker had with you about their mental health (please do not use names)..1',\n",
       "       'Overall, how much importance did your previous employer place on physical health?',\n",
       "       'Overall, how much importance did your previous employer place on mental health?',\n",
       "       'Do you currently have a mental health disorder?',\n",
       "       'Have you ever been *diagnosed* with a mental health disorder?',\n",
       "       '*What disorder(s) have you been diagnosed with?*',\n",
       "       '*If possibly, what disorder(s) do you believe you have?*',\n",
       "       '*If so, what disorder(s) were you diagnosed with?*',\n",
       "       'Have you had a mental health disorder in the past?',\n",
       "       'Have you ever sought treatment for a mental health disorder from a mental health professional?',\n",
       "       'Do you have a family history of mental illness?',\n",
       "       'If you have a mental health disorder, how often do you feel that it interferes with your work *when being treated effectively?*',\n",
       "       'If you have a mental health disorder, how often do you feel that it interferes with your work *when* _*NOT*_* being treated effectively (i.e., when you are experiencing symptoms)?*',\n",
       "       'Have your observations of how another individual who discussed a mental health disorder made you less likely to reveal a mental health issue yourself in your current workplace?',\n",
       "       'How willing would you be to share with friends and family that you have a mental illness?',\n",
       "       'Would you be willing to bring up a physical health issue with a potential employer in an interview?',\n",
       "       'Why or why not?',\n",
       "       'Would you bring up a mental health with a potential employer in an interview?',\n",
       "       'Why or why not?.1',\n",
       "       'Are you openly identified at work as a person with a mental health issue?',\n",
       "       'Has being identified as a person with a mental health issue affected your career?',\n",
       "       'How has it affected your career?',\n",
       "       'If they knew you suffered from a mental health disorder, how do you think that your team members/co-workers would react?',\n",
       "       'Have you observed or experienced an unsupportive or badly handled response to a mental health issue in your current or previous workplace?',\n",
       "       'Describe the circumstances of the badly handled or unsupportive response.',\n",
       "       'Have you observed or experienced a *supportive or well handled response* to a mental health issue in your current or previous workplace?',\n",
       "       'Describe the circumstances of the supportive or well handled response.',\n",
       "       'Overall, how well do you think the tech industry supports employees with mental health issues?',\n",
       "       'Briefly describe what you think the industry as a whole and/or employers could do to improve mental health support for employees.',\n",
       "       'If there is anything else you would like to tell us that has not been covered by the survey questions, please use this space to do so.',\n",
       "       'Would you be willing to talk to one of us more extensively about your experiences with mental health issues in the tech industry? (Note that all interview responses would be used _anonymously_ and only with your permission.)',\n",
       "       'What is your age?', 'What is your gender?',\n",
       "       'What country do you live in?',\n",
       "       'What US state or territory do you live in?', 'What is your race?',\n",
       "       'What country do you work in?',\n",
       "       'What US state or territory do you work in?'],\n",
       "      dtype='object')"
      ]
     },
     "execution_count": 15,
     "metadata": {},
     "output_type": "execute_result"
    }
   ],
   "source": [
    "s_2019_data.columns"
   ]
  },
  {
   "cell_type": "code",
   "execution_count": 16,
   "metadata": {},
   "outputs": [],
   "source": [
    "questions = [\n",
    "    'How many employees does your company or organization have?',\n",
    "    'Is your employer primarily a tech company/organization?',\n",
    "    'Is your primary role within your company related to tech/IT?',\n",
    "    'Would you be willing to bring up a physical health issue with a potential employer in an interview?',\n",
    "    'Why or why not?',\n",
    "    'Would you bring up a mental health issue with a potential employer in an interview?',\n",
    "    'Why or why not?.1',\n",
    "    'Have you observed or experienced an unsupportive or badly handled response to a mental health issue in your current or previous workplace?',\n",
    "    'Have your observations of how another individual who discussed a mental health disorder made you less likely to reveal a mental health issue yourself in your current workplace?',\n",
    "    'Have you had a mental health disorder in the past?',\n",
    "    'Do you currently have a mental health disorder?',\n",
    "    'What is your age?', \n",
    "    'What is your gender?',\n",
    "    'What country do you live in?',\n",
    "    'What US state or territory do you live in?',\n",
    "    'What country do you work in?',\n",
    "    'What US state or territory do you work in?',\n",
    "    'Which of the following best describes your work position?',\n",
    "    'Do you work remotely?'\n",
    "]"
   ]
  },
  {
   "cell_type": "code",
   "execution_count": 17,
   "metadata": {},
   "outputs": [
    {
     "name": "stdout",
     "output_type": "stream",
     "text": [
      "Error: \"['Would you bring up a mental health issue with a potential employer in an interview?', 'Which of the following best describes your work position?', 'Do you work remotely?'] not in index\"\n"
     ]
    }
   ],
   "source": [
    "# create a new dataframe with the columns we want\n",
    "try:\n",
    "    cleaned_2019 = s_2019_data[questions]\n",
    "    cleaned_2019.head()\n",
    "except KeyError as e:\n",
    "    # Handle the KeyError\n",
    "    print(f\"Error: {e}\")\n",
    "   "
   ]
  },
  {
   "cell_type": "code",
   "execution_count": 18,
   "metadata": {},
   "outputs": [
    {
     "ename": "NameError",
     "evalue": "name 'cleaned_2019' is not defined",
     "output_type": "error",
     "traceback": [
      "\u001b[1;31m---------------------------------------------------------------------------\u001b[0m",
      "\u001b[1;31mNameError\u001b[0m                                 Traceback (most recent call last)",
      "Cell \u001b[1;32mIn[18], line 3\u001b[0m\n\u001b[0;32m      1\u001b[0m \u001b[38;5;66;03m# export cleaned 2016 as a new csv file\u001b[39;00m\n\u001b[0;32m      2\u001b[0m filepath \u001b[38;5;241m=\u001b[39m Path(\u001b[38;5;124m'\u001b[39m\u001b[38;5;124mResources/2019-cleaned.csv\u001b[39m\u001b[38;5;124m'\u001b[39m)\n\u001b[1;32m----> 3\u001b[0m cleaned_2019\u001b[38;5;241m.\u001b[39mto_csv(filepath)\n",
      "\u001b[1;31mNameError\u001b[0m: name 'cleaned_2019' is not defined"
     ]
    }
   ],
   "source": [
    "# export cleaned 2016 as a new csv file\n",
    "filepath = Path('Resources/2019-cleaned.csv')\n",
    "cleaned_2019.to_csv(filepath)"
   ]
  },
  {
   "cell_type": "code",
   "execution_count": null,
   "metadata": {},
   "outputs": [],
   "source": []
  }
 ],
 "metadata": {
  "kernelspec": {
   "display_name": "Python 3 (ipykernel)",
   "language": "python",
   "name": "python3"
  },
  "language_info": {
   "codemirror_mode": {
    "name": "ipython",
    "version": 3
   },
   "file_extension": ".py",
   "mimetype": "text/x-python",
   "name": "python",
   "nbconvert_exporter": "python",
   "pygments_lexer": "ipython3",
   "version": "3.11.5"
  }
 },
 "nbformat": 4,
 "nbformat_minor": 2
}
