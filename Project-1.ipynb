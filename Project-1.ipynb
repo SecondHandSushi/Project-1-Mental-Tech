{
 "cells": [
  {
   "cell_type": "markdown",
   "metadata": {},
   "source": [
    "Project 1 - Mental Health in Tech\n",
    "\n",
    "By: Matthew Idle, Chad Fletcher, Lori Vitaioli, Brady Ogega, Cindy Hansel, Heather Shoberg, Jennifer White"
   ]
  },
  {
   "cell_type": "code",
   "execution_count": 1,
   "metadata": {},
   "outputs": [],
   "source": [
    "# Dependencies and Setup\n",
    "import matplotlib.pyplot as plt\n",
    "import pandas as pd\n",
    "import scipy.stats as st\n",
    "from pprint import pprint\n",
    "\n",
    "# File locations\n",
    "survey_2014 = \"Resources/2014-survey.csv\"\n",
    "survey_2016 = \"Resources/2016-survey.csv\"\n",
    "survey_2017 = \"Resources/2017-survey.csv\"\n",
    "survey_2018 = \"Resources/2018-survey.csv\"\n",
    "survey_2019 = \"Resources/2019-survey.csv\"\n",
    "\n",
    "# Reading the data\n",
    "s_2014_data = pd.read_csv(survey_2014)\n",
    "s_2016_data = pd.read_csv(survey_2016)\n",
    "s_2017_data = pd.read_csv(survey_2017)\n",
    "s_2018_data = pd.read_csv(survey_2018)\n",
    "s_2019_data = pd.read_csv(survey_2019)\n"
   ]
  },
  {
   "cell_type": "code",
   "execution_count": null,
   "metadata": {},
   "outputs": [],
   "source": []
  }
 ],
 "metadata": {
  "kernelspec": {
   "display_name": "dev",
   "language": "python",
   "name": "python3"
  },
  "language_info": {
   "codemirror_mode": {
    "name": "ipython",
    "version": 3
   },
   "file_extension": ".py",
   "mimetype": "text/x-python",
   "name": "python",
   "nbconvert_exporter": "python",
   "pygments_lexer": "ipython3",
   "version": "3.10.13"
  }
 },
 "nbformat": 4,
 "nbformat_minor": 2
}
