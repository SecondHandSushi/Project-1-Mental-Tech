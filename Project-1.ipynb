{
 "cells": [
  {
   "cell_type": "markdown",
   "metadata": {},
   "source": [
    "Project 1 - Mental Health in Tech\n",
    "\n",
    "By: Matthew Idle, Chad Fletcher, Lori Vitaioli, Brady Ogega, Cindy Hansel, Heather Shoberg, Jennifer White"
   ]
  },
  {
   "cell_type": "code",
   "execution_count": 4,
   "metadata": {},
   "outputs": [],
   "source": [
    "# Dependencies and Setup\n",
    "import matplotlib.pyplot as plt\n",
    "import pandas as pd\n",
    "import scipy.stats as st\n",
    "from pprint import pprint\n",
    "\n",
    "# File locations\n",
    "survey_2014 = \"Resources/2014-survey.csv\"\n",
    "survey_2016 = \"Resources/2016-survey.csv\"\n",
    "survey_2017 = \"Resources/2017-survey.csv\"\n",
    "survey_2018 = \"Resources/2018-survey.csv\"\n",
    "survey_2019 = \"Resources/2019-survey.csv\"\n",
    "\n",
    "# Reading the data\n",
    "s_2014_data = pd.read_csv(survey_2014)\n",
    "s_2016_data = pd.read_csv(survey_2016)\n",
    "s_2017_data = pd.read_csv(survey_2017)\n",
    "s_2018_data = pd.read_csv(survey_2018)\n",
    "s_2019_data = pd.read_csv(survey_2019)\n"
   ]
  },
  {
   "cell_type": "code",
   "execution_count": 7,
   "metadata": {},
   "outputs": [],
   "source": [
    "questions = [\n",
    "    'How many employees does your company or organization have?',\n",
    "    'Is your employer primarily a tech company/organization?',\n",
    "    'Is your primary role within your company related to tech/IT?',\n",
    "    'Would you be willing to bring up a physical health issue with a potential employer in an interview?',\n",
    "    'Why or why not?',\n",
    "    'Would you bring up a mental health issue with a potential employer in an interview?',\n",
    "    'Why or why not?.1',\n",
    "    'Have you observed or experienced an unsupportive or badly handled response to a mental health issue in your current or previous workplace?',\n",
    "    'Have your observations of how another individual who discussed a mental health disorder made you less likely to reveal a mental health issue yourself in your current workplace?',\n",
    "    'Have you had a mental health disorder in the past?',\n",
    "    'Do you currently have a mental health disorder?',\n",
    "    'What is your age?', \n",
    "    'What is your gender?',\n",
    "    'What country do you live in?',\n",
    "    'What US state or territory do you live in?',\n",
    "    'What country do you work in?',\n",
    "    'What US state or territory do you work in?',\n",
    "    'Which of the following best describes your work position?',\n",
    "    'Do you work remotely?'\n",
    "]"
   ]
  },
  {
   "cell_type": "code",
   "execution_count": 36,
   "metadata": {},
   "outputs": [
    {
     "data": {
      "text/plain": [
       "Why or why not?\n",
       "Not relevant                                                                                                3\n",
       "I don't know                                                                                                3\n",
       "Fear of discrimination                                                                                      3\n",
       "None of their business.                                                                                     2\n",
       "bias                                                                                                        2\n",
       "                                                                                                           ..\n",
       "because it is important to do the job                                                                       1\n",
       "The employers reaction would tell a lot of the type of company I'd be joining.                              1\n",
       "If it was relevant to the job, then yes.                                                                    1\n",
       "I would bring it up only if it were already obvious and/or would not be likely to affect my performance.    1\n",
       "Stigma with some diseases                                                                                   1\n",
       "Name: count, Length: 1085, dtype: int64"
      ]
     },
     "execution_count": 36,
     "metadata": {},
     "output_type": "execute_result"
    }
   ],
   "source": [
    "cleaned_2016 = s_2016_data[questions]\n",
    "cleaned_2016['Why or why not?'].value_counts()"
   ]
  },
  {
   "cell_type": "code",
   "execution_count": null,
   "metadata": {},
   "outputs": [],
   "source": []
  }
 ],
 "metadata": {
  "kernelspec": {
   "display_name": "dev",
   "language": "python",
   "name": "python3"
  },
  "language_info": {
   "codemirror_mode": {
    "name": "ipython",
    "version": 3
   },
   "file_extension": ".py",
   "mimetype": "text/x-python",
   "name": "python",
   "nbconvert_exporter": "python",
   "pygments_lexer": "ipython3",
   "version": "3.10.13"
  }
 },
 "nbformat": 4,
 "nbformat_minor": 2
}
