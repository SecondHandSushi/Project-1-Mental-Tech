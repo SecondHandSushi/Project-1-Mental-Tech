{
 "cells": [
  {
   "cell_type": "code",
   "execution_count": 2,
   "id": "ec04a839",
   "metadata": {},
   "outputs": [],
   "source": [
    "# Dependencies and Setup\n",
    "import matplotlib.pyplot as plt\n",
    "import pandas as pd\n",
    "import scipy.stats as st\n",
    "import numpy as np\n",
    "from scipy.stats import pearsonr\n",
    "from pprint import pprint\n",
    "from pathlib import Path"
   ]
  },
  {
   "cell_type": "code",
   "execution_count": 7,
   "id": "67a6f980",
   "metadata": {},
   "outputs": [],
   "source": [
    "# Location of file\n",
    "survey_2016 = \"Resources/2016_cleaned.csv\""
   ]
  },
  {
   "cell_type": "code",
   "execution_count": 8,
   "id": "c22400cb",
   "metadata": {},
   "outputs": [
    {
     "ename": "IndentationError",
     "evalue": "unexpected indent (3358036458.py, line 2)",
     "output_type": "error",
     "traceback": [
      "\u001b[0;36m  Cell \u001b[0;32mIn[8], line 2\u001b[0;36m\u001b[0m\n\u001b[0;31m    = pd.read_csv(survey_2016)\u001b[0m\n\u001b[0m    ^\u001b[0m\n\u001b[0;31mIndentationError\u001b[0m\u001b[0;31m:\u001b[0m unexpected indent\n"
     ]
    }
   ],
   "source": [
    "# Reading the data\n",
    " = pd.read_csv(survey_2016)\n",
    "s_2016_data.head()"
   ]
  },
  {
   "cell_type": "code",
   "execution_count": null,
   "id": "bf2cf7db",
   "metadata": {},
   "outputs": [],
   "source": []
  },
  {
   "cell_type": "code",
   "execution_count": 9,
   "id": "f40f25e0",
   "metadata": {},
   "outputs": [
    {
     "ename": "NameError",
     "evalue": "name 'clean_2016' is not defined",
     "output_type": "error",
     "traceback": [
      "\u001b[0;31m---------------------------------------------------------------------------\u001b[0m",
      "\u001b[0;31mNameError\u001b[0m                                 Traceback (most recent call last)",
      "Cell \u001b[0;32mIn[9], line 7\u001b[0m\n\u001b[1;32m      4\u001b[0m age_groups \u001b[38;5;241m=\u001b[39m [\u001b[38;5;124m\"\u001b[39m\u001b[38;5;124m18-24\u001b[39m\u001b[38;5;124m\"\u001b[39m,\u001b[38;5;124m\"\u001b[39m\u001b[38;5;124m25-34\u001b[39m\u001b[38;5;124m\"\u001b[39m,\u001b[38;5;124m\"\u001b[39m\u001b[38;5;124m35-44\u001b[39m\u001b[38;5;124m\"\u001b[39m,\u001b[38;5;124m\"\u001b[39m\u001b[38;5;124m45-54\u001b[39m\u001b[38;5;124m\"\u001b[39m,\u001b[38;5;124m\"\u001b[39m\u001b[38;5;124m55-64\u001b[39m\u001b[38;5;124m\"\u001b[39m,\u001b[38;5;124m\"\u001b[39m\u001b[38;5;124m65-74\u001b[39m\u001b[38;5;124m\"\u001b[39m,\u001b[38;5;124m\"\u001b[39m\u001b[38;5;124m75+\u001b[39m\u001b[38;5;124m\"\u001b[39m]\n\u001b[1;32m      6\u001b[0m \u001b[38;5;66;03m# Slice the data and place it into bins\u001b[39;00m\n\u001b[0;32m----> 7\u001b[0m age_groups_column \u001b[38;5;241m=\u001b[39m pd\u001b[38;5;241m.\u001b[39mcut(\u001b[43mclean_2016\u001b[49m[\u001b[38;5;124m\"\u001b[39m\u001b[38;5;124mage\u001b[39m\u001b[38;5;124m\"\u001b[39m], bins, labels\u001b[38;5;241m=\u001b[39mage_groups)\n\u001b[1;32m      8\u001b[0m age_groups_column\u001b[38;5;241m.\u001b[39mvalue_counts()\n",
      "\u001b[0;31mNameError\u001b[0m: name 'clean_2016' is not defined"
     ]
    }
   ],
   "source": [
    "# Create bins for ages\n",
    "bins = [0,24,34,44,54,64,74,75]\n",
    "#age_groups = [\"18 to 24\",\"25 to 34\",\"35 to 44\",\"45 to 54\",\"55 to 64\",\"65 to 74\",\"Over 75\"]\n",
    "age_groups = [\"18-24\",\"25-34\",\"35-44\",\"45-54\",\"55-64\",\"65-74\",\"75+\"]\n",
    "\n",
    "# Slice the data and place it into bins\n",
    "age_groups_column = pd.cut(clean_2016[\"age\"], bins, labels=age_groups)\n",
    "age_groups_column.value_counts()"
   ]
  },
  {
   "cell_type": "code",
   "execution_count": 11,
   "id": "7c1b3318",
   "metadata": {},
   "outputs": [
    {
     "data": {
      "text/plain": [
       "Index(['Unnamed: 0', 'age', 'original_gender', 'gender', 'country', 'remote',\n",
       "       'num_employees', 'disorder_past', 'disorder_current',\n",
       "       'bring_up_phys_issue_in_interview', 'bring_up_mh_issue_in_interview',\n",
       "       'obs_exper_bad_resp_cur_prev', 'obs_of_other_inhibit_discuss_curr',\n",
       "       'comf_discuss_mh_disorder_cur_superv',\n",
       "       'willing_discuss_mh_issue_prev_superv', 'request_med_leave'],\n",
       "      dtype='object')"
      ]
     },
     "execution_count": 11,
     "metadata": {},
     "output_type": "execute_result"
    }
   ],
   "source": [
    "s_2016_data.columns"
   ]
  },
  {
   "cell_type": "code",
   "execution_count": null,
   "id": "633cd545",
   "metadata": {},
   "outputs": [],
   "source": []
  }
 ],
 "metadata": {
  "kernelspec": {
   "display_name": "Python 3 (ipykernel)",
   "language": "python",
   "name": "python3"
  },
  "language_info": {
   "codemirror_mode": {
    "name": "ipython",
    "version": 3
   },
   "file_extension": ".py",
   "mimetype": "text/x-python",
   "name": "python",
   "nbconvert_exporter": "python",
   "pygments_lexer": "ipython3",
   "version": "3.10.13"
  }
 },
 "nbformat": 4,
 "nbformat_minor": 5
}
