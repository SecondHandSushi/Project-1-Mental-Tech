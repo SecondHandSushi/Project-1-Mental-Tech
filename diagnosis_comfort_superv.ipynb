{
 "cells": [
  {
   "cell_type": "markdown",
   "metadata": {},
   "source": [
    "### Compare if author has been diagnosed with mental health disorder and comfort talking to current supervisor about mental health issues or concerns."
   ]
  },
  {
   "cell_type": "code",
   "execution_count": 1,
   "metadata": {
    "scrolled": true
   },
   "outputs": [],
   "source": [
    "# Dependencies and Setup\n",
    "import matplotlib.pyplot as plt\n",
    "import pandas as pd\n",
    "import numpy as np\n",
    "import requests\n",
    "from pathlib import Path\n",
    "import scipy.stats as st"
   ]
  },
  {
   "cell_type": "markdown",
   "metadata": {},
   "source": [
    "---"
   ]
  },
  {
   "cell_type": "code",
   "execution_count": 2,
   "metadata": {},
   "outputs": [
    {
     "data": {
      "text/html": [
       "<div>\n",
       "<style scoped>\n",
       "    .dataframe tbody tr th:only-of-type {\n",
       "        vertical-align: middle;\n",
       "    }\n",
       "\n",
       "    .dataframe tbody tr th {\n",
       "        vertical-align: top;\n",
       "    }\n",
       "\n",
       "    .dataframe thead th {\n",
       "        text-align: right;\n",
       "    }\n",
       "</style>\n",
       "<table border=\"1\" class=\"dataframe\">\n",
       "  <thead>\n",
       "    <tr style=\"text-align: right;\">\n",
       "      <th></th>\n",
       "      <th>Unnamed: 0</th>\n",
       "      <th>age</th>\n",
       "      <th>original_gender</th>\n",
       "      <th>gender</th>\n",
       "      <th>country</th>\n",
       "      <th>remote</th>\n",
       "      <th>num_employees</th>\n",
       "      <th>disorder_past</th>\n",
       "      <th>disorder_current</th>\n",
       "      <th>bring_up_phys_issue_in_interview</th>\n",
       "      <th>bring_up_mh_issue_in_interview</th>\n",
       "      <th>obs_exper_bad_resp_cur_prev</th>\n",
       "      <th>obs_of_other_inhibit_discuss_curr</th>\n",
       "      <th>comf_discuss_mh_disorder_cur_superv</th>\n",
       "      <th>willing_discuss_mh_issue_prev_superv</th>\n",
       "      <th>request_med_leave</th>\n",
       "      <th>age groups</th>\n",
       "    </tr>\n",
       "  </thead>\n",
       "  <tbody>\n",
       "    <tr>\n",
       "      <th>0</th>\n",
       "      <td>0</td>\n",
       "      <td>39</td>\n",
       "      <td>Male</td>\n",
       "      <td>male</td>\n",
       "      <td>United Kingdom</td>\n",
       "      <td>Sometimes</td>\n",
       "      <td>26-100</td>\n",
       "      <td>Yes</td>\n",
       "      <td>No</td>\n",
       "      <td>Maybe</td>\n",
       "      <td>Maybe</td>\n",
       "      <td>No</td>\n",
       "      <td>No Response</td>\n",
       "      <td>Yes</td>\n",
       "      <td>Some of my previous employers</td>\n",
       "      <td>Very easy</td>\n",
       "      <td>35-44</td>\n",
       "    </tr>\n",
       "    <tr>\n",
       "      <th>1</th>\n",
       "      <td>1</td>\n",
       "      <td>29</td>\n",
       "      <td>male</td>\n",
       "      <td>male</td>\n",
       "      <td>United States of America</td>\n",
       "      <td>Never</td>\n",
       "      <td>25-Jun</td>\n",
       "      <td>Yes</td>\n",
       "      <td>Yes</td>\n",
       "      <td>Maybe</td>\n",
       "      <td>No</td>\n",
       "      <td>No</td>\n",
       "      <td>No Response</td>\n",
       "      <td>Yes</td>\n",
       "      <td>Some of my previous employers</td>\n",
       "      <td>Somewhat easy</td>\n",
       "      <td>25-34</td>\n",
       "    </tr>\n",
       "    <tr>\n",
       "      <th>2</th>\n",
       "      <td>2</td>\n",
       "      <td>38</td>\n",
       "      <td>Male</td>\n",
       "      <td>male</td>\n",
       "      <td>United Kingdom</td>\n",
       "      <td>Always</td>\n",
       "      <td>25-Jun</td>\n",
       "      <td>Maybe</td>\n",
       "      <td>No</td>\n",
       "      <td>Yes</td>\n",
       "      <td>Yes</td>\n",
       "      <td>Maybe/Not sure</td>\n",
       "      <td>Yes</td>\n",
       "      <td>Maybe</td>\n",
       "      <td>I don't know</td>\n",
       "      <td>Neither easy nor difficult</td>\n",
       "      <td>35-44</td>\n",
       "    </tr>\n",
       "    <tr>\n",
       "      <th>3</th>\n",
       "      <td>3</td>\n",
       "      <td>43</td>\n",
       "      <td>male</td>\n",
       "      <td>male</td>\n",
       "      <td>United Kingdom</td>\n",
       "      <td>Sometimes</td>\n",
       "      <td>No Response</td>\n",
       "      <td>Yes</td>\n",
       "      <td>Yes</td>\n",
       "      <td>Yes</td>\n",
       "      <td>Maybe</td>\n",
       "      <td>No</td>\n",
       "      <td>No Response</td>\n",
       "      <td>No Response</td>\n",
       "      <td>Some of my previous employers</td>\n",
       "      <td>No Response</td>\n",
       "      <td>35-44</td>\n",
       "    </tr>\n",
       "    <tr>\n",
       "      <th>4</th>\n",
       "      <td>4</td>\n",
       "      <td>43</td>\n",
       "      <td>Female</td>\n",
       "      <td>female</td>\n",
       "      <td>United States of America</td>\n",
       "      <td>Sometimes</td>\n",
       "      <td>25-Jun</td>\n",
       "      <td>Yes</td>\n",
       "      <td>Yes</td>\n",
       "      <td>Maybe</td>\n",
       "      <td>No</td>\n",
       "      <td>Yes, I experienced</td>\n",
       "      <td>Yes</td>\n",
       "      <td>No</td>\n",
       "      <td>Some of my previous employers</td>\n",
       "      <td>Neither easy nor difficult</td>\n",
       "      <td>35-44</td>\n",
       "    </tr>\n",
       "  </tbody>\n",
       "</table>\n",
       "</div>"
      ],
      "text/plain": [
       "   Unnamed: 0  age original_gender  gender                   country  \\\n",
       "0           0   39            Male    male            United Kingdom   \n",
       "1           1   29            male    male  United States of America   \n",
       "2           2   38           Male     male            United Kingdom   \n",
       "3           3   43            male    male            United Kingdom   \n",
       "4           4   43          Female  female  United States of America   \n",
       "\n",
       "      remote num_employees disorder_past disorder_current  \\\n",
       "0  Sometimes        26-100           Yes               No   \n",
       "1      Never        25-Jun           Yes              Yes   \n",
       "2     Always        25-Jun         Maybe               No   \n",
       "3  Sometimes   No Response           Yes              Yes   \n",
       "4  Sometimes        25-Jun           Yes              Yes   \n",
       "\n",
       "  bring_up_phys_issue_in_interview bring_up_mh_issue_in_interview  \\\n",
       "0                            Maybe                          Maybe   \n",
       "1                            Maybe                             No   \n",
       "2                              Yes                            Yes   \n",
       "3                              Yes                          Maybe   \n",
       "4                            Maybe                             No   \n",
       "\n",
       "  obs_exper_bad_resp_cur_prev obs_of_other_inhibit_discuss_curr  \\\n",
       "0                          No                       No Response   \n",
       "1                          No                       No Response   \n",
       "2              Maybe/Not sure                               Yes   \n",
       "3                          No                       No Response   \n",
       "4          Yes, I experienced                               Yes   \n",
       "\n",
       "  comf_discuss_mh_disorder_cur_superv willing_discuss_mh_issue_prev_superv  \\\n",
       "0                                 Yes        Some of my previous employers   \n",
       "1                                 Yes        Some of my previous employers   \n",
       "2                               Maybe                         I don't know   \n",
       "3                         No Response        Some of my previous employers   \n",
       "4                                  No        Some of my previous employers   \n",
       "\n",
       "            request_med_leave age groups  \n",
       "0                   Very easy      35-44  \n",
       "1               Somewhat easy      25-34  \n",
       "2  Neither easy nor difficult      35-44  \n",
       "3                 No Response      35-44  \n",
       "4  Neither easy nor difficult      35-44  "
      ]
     },
     "execution_count": 2,
     "metadata": {},
     "output_type": "execute_result"
    }
   ],
   "source": [
    "# Read saved data\n",
    "squeaky_2016 = Path(\"Resources/2016-cleaned.csv\")\n",
    "diagnosis_comfort_superv_df = pd.read_csv(squeaky_2016)\n",
    "\n",
    "# Display sample data\n",
    "diagnosis_comfort_superv_df.head()"
   ]
  },
  {
   "cell_type": "markdown",
   "metadata": {},
   "source": [
    "#### No current mental health diagnosis and comfort talking to supervisor"
   ]
  },
  {
   "cell_type": "code",
   "execution_count": 37,
   "metadata": {
    "tags": []
   },
   "outputs": [
    {
     "data": {
      "image/png": "[encoded data removed]",
      "text/plain": [
       "<Figure size 640x480 with 1 Axes>"
      ]
     },
     "metadata": {},
     "output_type": "display_data"
    }
   ],
   "source": [
    "# Build plot for Do you have a current MH diagnosis and comfort level talking to current supervisor?\n",
    "no_answer = diagnosis_comfort_superv_df.loc[diagnosis_comfort_superv_df[\"disorder_current\"] == \"No\", :]\n",
    "no_answer_mh = no_answer[[\"comf_discuss_mh_disorder_cur_superv\", \"disorder_current\"]]\n",
    "\n",
    "no_answer = pd.DataFrame(no_answer_mh[\"comf_discuss_mh_disorder_cur_superv\"].value_counts())\n",
    "no_answer.index.names = [\"no MH diagnosis\"]\n",
    "plt.bar(no_answer.index, no_answer[\"count\"], color = \"blue\")\n",
    "\n",
    "# Incorporate the other graph properties\n",
    "plt.xticks(fontsize=10)\n",
    "plt.yticks(fontsize=10)\n",
    "plt.title(\"Comfort Talking to Supervisor About Mental Health - No Current Mental Health Diagnosis\")\n",
    "#plt.legend(title=\"Comfort Talking to Supervisor About Mental Health - No Current Mental Health Diagnosis\", loc=\"best\")\n",
    "plt.xlabel(\"Response\")\n",
    "plt.ylabel(\"Number of Responses\")\n",
    "\n",
    "# Save the figure\n",
    "plt.savefig(\"Figures/diagnosis_nocurrentdiag.png\")\n",
    "\n",
    "# Show plot\n",
    "plt.show()"
   ]
  },
  {
   "cell_type": "markdown",
   "metadata": {},
   "source": [
    "#### Current mental health diagnosis and comfort talking to supervisor"
   ]
  },
  {
   "cell_type": "code",
   "execution_count": 23,
   "metadata": {},
   "outputs": [
    {
     "data": {
      "image/png": "[encoded data removed]",
      "text/plain": [
       "<Figure size 640x480 with 1 Axes>"
      ]
     },
     "metadata": {},
     "output_type": "display_data"
    }
   ],
   "source": [
    "# Build plot for Do you have a current MH diagnosis and comfort level talking to current supervisor?\n",
    "yes_answer = diagnosis_comfort_superv_df.loc[diagnosis_comfort_superv_df[\"disorder_current\"] == \"Yes\", :]\n",
    "yes_answer_mh = yes_answer[[\"comf_discuss_mh_disorder_cur_superv\", \"disorder_current\"]]\n",
    "\n",
    "yes_answer = pd.DataFrame(yes_answer_mh[\"comf_discuss_mh_disorder_cur_superv\"].value_counts())\n",
    "yes_answer.index.names = [\"yes MH diagnosis\"]\n",
    "plt.bar(yes_answer.index, yes_answer[\"count\"], color = \"orange\")\n",
    "\n",
    "# Incorporate the other graph properties\n",
    "plt.xticks(fontsize=10)\n",
    "plt.yticks(fontsize=10)\n",
    "plt.title(\"Comfort Talking to Supervisor About Mental Health - Current Mental Health Diagnosis\")\n",
    "plt.xlabel(\"Response\")\n",
    "plt.ylabel(\"Number of Responses\")\n",
    "\n",
    "# Save the figure\n",
    "plt.savefig(\"Figures/diagnosis_yescurrentdiag.png\")\n",
    "\n",
    "# Show plot\n",
    "plt.show()"
   ]
  },
  {
   "cell_type": "markdown",
   "metadata": {},
   "source": [
    "\n",
    "\n",
    "#### Possible current mental health diagnosis and comfort talking to supervisor\n"
   ]
  },
  {
   "cell_type": "code",
   "execution_count": 24,
   "metadata": {},
   "outputs": [
    {
     "data": {
      "image/png": "[encoded data removed]",
      "text/plain": [
       "<Figure size 640x480 with 1 Axes>"
      ]
     },
     "metadata": {},
     "output_type": "display_data"
    }
   ],
   "source": [
    "# Build plot for Do you have a current MH diagnosis and comfort level talking to current supervisor?\n",
    "maybe_answer = diagnosis_comfort_superv_df.loc[diagnosis_comfort_superv_df[\"disorder_current\"] == \"Maybe\", :]\n",
    "maybe_answer[[\"comf_discuss_mh_disorder_cur_superv\", \"disorder_current\"]]\n",
    "\n",
    "maybe_answer = pd.DataFrame(maybe_answer[\"comf_discuss_mh_disorder_cur_superv\"].value_counts())\n",
    "maybe_answer.index.names = [\"maybe MH diagnosis\"]\n",
    "plt.bar(maybe_answer.index, maybe_answer[\"count\"], color = \"green\")\n",
    "\n",
    "# Incorporate the other graph properties\n",
    "plt.xticks(fontsize=10)\n",
    "plt.yticks(fontsize=10)\n",
    "plt.title(\"Comfort Talking to Supervisor About Mental Health - Possible Current Mental Health Diagnosis\")\n",
    "plt.xlabel(\"Response\")\n",
    "plt.ylabel(\"Number of Responses\")\n",
    "\n",
    "# Save the figure\n",
    "plt.savefig(\"Figures/diagnosis_maybecurrentdiag.png\")\n",
    "\n",
    "# Show plot\n",
    "plt.show()"
   ]
  },
  {
   "cell_type": "code",
   "execution_count": 6,
   "metadata": {},
   "outputs": [
    {
     "data": {
      "text/html": [
       "<div>\n",
       "<style scoped>\n",
       "    .dataframe tbody tr th:only-of-type {\n",
       "        vertical-align: middle;\n",
       "    }\n",
       "\n",
       "    .dataframe tbody tr th {\n",
       "        vertical-align: top;\n",
       "    }\n",
       "\n",
       "    .dataframe thead th {\n",
       "        text-align: right;\n",
       "    }\n",
       "</style>\n",
       "<table border=\"1\" class=\"dataframe\">\n",
       "  <thead>\n",
       "    <tr style=\"text-align: right;\">\n",
       "      <th></th>\n",
       "      <th>count</th>\n",
       "    </tr>\n",
       "    <tr>\n",
       "      <th>no MH diagnosis</th>\n",
       "      <th></th>\n",
       "    </tr>\n",
       "  </thead>\n",
       "  <tbody>\n",
       "    <tr>\n",
       "      <th>Yes</th>\n",
       "      <td>179</td>\n",
       "    </tr>\n",
       "    <tr>\n",
       "      <th>Maybe</th>\n",
       "      <td>146</td>\n",
       "    </tr>\n",
       "    <tr>\n",
       "      <th>No</th>\n",
       "      <td>114</td>\n",
       "    </tr>\n",
       "    <tr>\n",
       "      <th>No Response</th>\n",
       "      <td>89</td>\n",
       "    </tr>\n",
       "  </tbody>\n",
       "</table>\n",
       "</div>"
      ],
      "text/plain": [
       "                 count\n",
       "no MH diagnosis       \n",
       "Yes                179\n",
       "Maybe              146\n",
       "No                 114\n",
       "No Response         89"
      ]
     },
     "execution_count": 6,
     "metadata": {},
     "output_type": "execute_result"
    }
   ],
   "source": [
    "no_answer"
   ]
  },
  {
   "cell_type": "code",
   "execution_count": 7,
   "metadata": {},
   "outputs": [
    {
     "data": {
      "text/html": [
       "<div>\n",
       "<style scoped>\n",
       "    .dataframe tbody tr th:only-of-type {\n",
       "        vertical-align: middle;\n",
       "    }\n",
       "\n",
       "    .dataframe tbody tr th {\n",
       "        vertical-align: top;\n",
       "    }\n",
       "\n",
       "    .dataframe thead th {\n",
       "        text-align: right;\n",
       "    }\n",
       "</style>\n",
       "<table border=\"1\" class=\"dataframe\">\n",
       "  <thead>\n",
       "    <tr style=\"text-align: right;\">\n",
       "      <th></th>\n",
       "      <th>count</th>\n",
       "    </tr>\n",
       "    <tr>\n",
       "      <th>yes MH diagnosis</th>\n",
       "      <th></th>\n",
       "    </tr>\n",
       "  </thead>\n",
       "  <tbody>\n",
       "    <tr>\n",
       "      <th>Yes</th>\n",
       "      <td>168</td>\n",
       "    </tr>\n",
       "    <tr>\n",
       "      <th>No</th>\n",
       "      <td>143</td>\n",
       "    </tr>\n",
       "    <tr>\n",
       "      <th>Maybe</th>\n",
       "      <td>139</td>\n",
       "    </tr>\n",
       "    <tr>\n",
       "      <th>No Response</th>\n",
       "      <td>124</td>\n",
       "    </tr>\n",
       "  </tbody>\n",
       "</table>\n",
       "</div>"
      ],
      "text/plain": [
       "                  count\n",
       "yes MH diagnosis       \n",
       "Yes                 168\n",
       "No                  143\n",
       "Maybe               139\n",
       "No Response         124"
      ]
     },
     "execution_count": 7,
     "metadata": {},
     "output_type": "execute_result"
    }
   ],
   "source": [
    "yes_answer"
   ]
  },
  {
   "cell_type": "code",
   "execution_count": 8,
   "metadata": {},
   "outputs": [
    {
     "data": {
      "text/html": [
       "<div>\n",
       "<style scoped>\n",
       "    .dataframe tbody tr th:only-of-type {\n",
       "        vertical-align: middle;\n",
       "    }\n",
       "\n",
       "    .dataframe tbody tr th {\n",
       "        vertical-align: top;\n",
       "    }\n",
       "\n",
       "    .dataframe thead th {\n",
       "        text-align: right;\n",
       "    }\n",
       "</style>\n",
       "<table border=\"1\" class=\"dataframe\">\n",
       "  <thead>\n",
       "    <tr style=\"text-align: right;\">\n",
       "      <th></th>\n",
       "      <th>count</th>\n",
       "    </tr>\n",
       "    <tr>\n",
       "      <th>maybe MH diagnosis</th>\n",
       "      <th></th>\n",
       "    </tr>\n",
       "  </thead>\n",
       "  <tbody>\n",
       "    <tr>\n",
       "      <th>Maybe</th>\n",
       "      <td>96</td>\n",
       "    </tr>\n",
       "    <tr>\n",
       "      <th>No</th>\n",
       "      <td>79</td>\n",
       "    </tr>\n",
       "    <tr>\n",
       "      <th>Yes</th>\n",
       "      <td>78</td>\n",
       "    </tr>\n",
       "    <tr>\n",
       "      <th>No Response</th>\n",
       "      <td>73</td>\n",
       "    </tr>\n",
       "  </tbody>\n",
       "</table>\n",
       "</div>"
      ],
      "text/plain": [
       "                    count\n",
       "maybe MH diagnosis       \n",
       "Maybe                  96\n",
       "No                     79\n",
       "Yes                    78\n",
       "No Response            73"
      ]
     },
     "execution_count": 8,
     "metadata": {},
     "output_type": "execute_result"
    }
   ],
   "source": [
    "maybe_answer"
   ]
  },
  {
   "cell_type": "code",
   "execution_count": 1,
   "metadata": {},
   "outputs": [
    {
     "ename": "NameError",
     "evalue": "name 'pd' is not defined",
     "output_type": "error",
     "traceback": [
      "\u001b[1;31m---------------------------------------------------------------------------\u001b[0m",
      "\u001b[1;31mNameError\u001b[0m                                 Traceback (most recent call last)",
      "\u001b[1;32mc:\\Users\\jnnfr\\OneDrive\\Documents\\Data Analytics\\Module-7_project_1\\Module-7_JWhite_project\\Project-1-Mental-Tech\\diagnosis_comfort_superv.ipynb Cell 14\u001b[0m line \u001b[0;36m7\n\u001b[0;32m      <a href='vscode-notebook-cell:/c%3A/Users/jnnfr/OneDrive/Documents/Data%20Analytics/Module-7_project_1/Module-7_JWhite_project/Project-1-Mental-Tech/diagnosis_comfort_superv.ipynb#X16sZmlsZQ%3D%3D?line=3'>4</a>\u001b[0m maybe_number \u001b[39m=\u001b[39m [\u001b[39m146\u001b[39m, \u001b[39m139\u001b[39m, \u001b[39m96\u001b[39m]\n\u001b[0;32m      <a href='vscode-notebook-cell:/c%3A/Users/jnnfr/OneDrive/Documents/Data%20Analytics/Module-7_project_1/Module-7_JWhite_project/Project-1-Mental-Tech/diagnosis_comfort_superv.ipynb#X16sZmlsZQ%3D%3D?line=4'>5</a>\u001b[0m no_response \u001b[39m=\u001b[39m [\u001b[39m89\u001b[39m, \u001b[39m124\u001b[39m, \u001b[39m73\u001b[39m]\n\u001b[1;32m----> <a href='vscode-notebook-cell:/c%3A/Users/jnnfr/OneDrive/Documents/Data%20Analytics/Module-7_project_1/Module-7_JWhite_project/Project-1-Mental-Tech/diagnosis_comfort_superv.ipynb#X16sZmlsZQ%3D%3D?line=6'>7</a>\u001b[0m MH_diagnosis_df \u001b[39m=\u001b[39m pd\u001b[39m.\u001b[39mDataFrame({\u001b[39m\"\u001b[39m\u001b[39mNo\u001b[39m\u001b[39m\"\u001b[39m: no_number, \u001b[39m\"\u001b[39m\u001b[39mYes\u001b[39m\u001b[39m\"\u001b[39m: yes_number, \u001b[39m\"\u001b[39m\u001b[39mMaybe\u001b[39m\u001b[39m\"\u001b[39m: maybe_number, \u001b[39m\"\u001b[39m\u001b[39mNo response\u001b[39m\u001b[39m\"\u001b[39m: no_response}, index\u001b[39m=\u001b[39mMH_diagnosis)\n\u001b[0;32m      <a href='vscode-notebook-cell:/c%3A/Users/jnnfr/OneDrive/Documents/Data%20Analytics/Module-7_project_1/Module-7_JWhite_project/Project-1-Mental-Tech/diagnosis_comfort_superv.ipynb#X16sZmlsZQ%3D%3D?line=7'>8</a>\u001b[0m MH_diagnosis_df\u001b[39m.\u001b[39mplot\u001b[39m.\u001b[39mbar(rot\u001b[39m=\u001b[39m\u001b[39m0\u001b[39m)\n\u001b[0;32m      <a href='vscode-notebook-cell:/c%3A/Users/jnnfr/OneDrive/Documents/Data%20Analytics/Module-7_project_1/Module-7_JWhite_project/Project-1-Mental-Tech/diagnosis_comfort_superv.ipynb#X16sZmlsZQ%3D%3D?line=8'>9</a>\u001b[0m plt\u001b[39m.\u001b[39mxticks(fontsize\u001b[39m=\u001b[39m\u001b[39m10\u001b[39m)\n",
      "\u001b[1;31mNameError\u001b[0m: name 'pd' is not defined"
     ]
    }
   ],
   "source": [
    "MH_diagnosis = [\"No\", \"Yes\", \"Maybe\"]\n",
    "no_number = [114, 143, 96]\n",
    "yes_number = [179, 168, 78]\n",
    "maybe_number = [146, 139, 96]\n",
    "no_response = [89, 124, 73]\n",
    "\n",
    "MH_diagnosis_df = pd.DataFrame({\"No\": no_number, \"Yes\": yes_number, \"Maybe\": maybe_number, \"No response\": no_response}, index=MH_diagnosis)\n",
    "MH_diagnosis_df.plot.bar(rot=0)\n",
    "plt.xticks(fontsize=10)\n",
    "plt.yticks(fontsize=10)\n",
    "plt.legend(title=\"Comfort Talking to Supervisor About Mental Health Compared to Current Mental Health Diagnosis\", loc=\"best\", title_fontsize=\"small\", bbox_to_anchor=(-0.15, 0.75), fontsize=\"small\")\n",
    "plt.xlabel(\"Do you have a current mental health diagnosis?\", size=9)\n",
    "plt.ylabel(\"Response Count\", size=9)\n",
    "\n",
    "# Save the figure\n",
    "plt.savefig(\"Figures/diagnosis_fullcurrentdiag.png\")\n",
    "plt.show()"
   ]
  }
 ],
 "metadata": {
  "anaconda-cloud": {},
  "kernel_info": {
   "name": "python3"
  },
  "kernelspec": {
   "display_name": "Python 3 (ipykernel)",
   "language": "python",
   "name": "python3"
  },
  "language_info": {
   "codemirror_mode": {
    "name": "ipython",
    "version": 3
   },
   "file_extension": ".py",
   "mimetype": "text/x-python",
   "name": "python",
   "nbconvert_exporter": "python",
   "pygments_lexer": "ipython3",
   "version": "3.11.5"
  },
  "latex_envs": {
   "LaTeX_envs_menu_present": true,
   "autoclose": false,
   "autocomplete": true,
   "bibliofile": "biblio.bib",
   "cite_by": "apalike",
   "current_citInitial": 1,
   "eqLabelWithNumbers": true,
   "eqNumInitial": 1,
   "hotkeys": {
    "equation": "Ctrl-E",
    "itemize": "Ctrl-I"
   },
   "labels_anchors": false,
   "latex_user_defs": false,
   "report_style_numbering": false,
   "user_envs_cfg": false
  },
  "nteract": {
   "version": "0.12.3"
  }
 },
 "nbformat": 4,
 "nbformat_minor": 4
}
