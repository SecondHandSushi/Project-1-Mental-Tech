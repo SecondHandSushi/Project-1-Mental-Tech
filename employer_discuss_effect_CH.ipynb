{
 "cells": [
  {
   "cell_type": "code",
   "execution_count": 1,
   "id": "e80f13f9",
   "metadata": {},
   "outputs": [],
   "source": [
    "# Dependencies and Setup\n",
    "import matplotlib.pyplot as plt\n",
    "import pandas as pd\n",
    "import scipy.stats as st\n",
    "from pprint import pprint\n",
    "from pathlib import Path\n",
    "import numpy as np\n",
    "from scipy.stats import linregress\n",
    "import scipy.stats as stats\n",
    "\n",
    "# File locations\n",
    "combined = \"Resources/combined_df.csv\"\n",
    "\n",
    "# Reading the data\n",
    "combined_data = pd.read_csv(combined)"
   ]
  },
  {
   "cell_type": "code",
   "execution_count": 2,
   "id": "4e932ea6",
   "metadata": {},
   "outputs": [
    {
     "data": {
      "text/html": [
       "<div>\n",
       "<style scoped>\n",
       "    .dataframe tbody tr th:only-of-type {\n",
       "        vertical-align: middle;\n",
       "    }\n",
       "\n",
       "    .dataframe tbody tr th {\n",
       "        vertical-align: top;\n",
       "    }\n",
       "\n",
       "    .dataframe thead th {\n",
       "        text-align: right;\n",
       "    }\n",
       "</style>\n",
       "<table border=\"1\" class=\"dataframe\">\n",
       "  <thead>\n",
       "    <tr style=\"text-align: right;\">\n",
       "      <th></th>\n",
       "      <th>Unnamed: 0</th>\n",
       "      <th>age</th>\n",
       "      <th>original_gender</th>\n",
       "      <th>gender</th>\n",
       "      <th>country</th>\n",
       "      <th>num_employees</th>\n",
       "      <th>employer_discuss_mh</th>\n",
       "      <th>disorder_past</th>\n",
       "      <th>disorder_current</th>\n",
       "      <th>bring_up_phys_issue_in_interview</th>\n",
       "      <th>bring_up_mh_issue_in_interview</th>\n",
       "      <th>request_med_leave</th>\n",
       "      <th>age groups</th>\n",
       "      <th>year</th>\n",
       "      <th>individual</th>\n",
       "    </tr>\n",
       "  </thead>\n",
       "  <tbody>\n",
       "    <tr>\n",
       "      <th>0</th>\n",
       "      <td>0</td>\n",
       "      <td>39.0</td>\n",
       "      <td>Male</td>\n",
       "      <td>male</td>\n",
       "      <td>United Kingdom</td>\n",
       "      <td>26-100</td>\n",
       "      <td>No</td>\n",
       "      <td>Yes</td>\n",
       "      <td>No</td>\n",
       "      <td>Maybe</td>\n",
       "      <td>Maybe</td>\n",
       "      <td>Very easy</td>\n",
       "      <td>35-44</td>\n",
       "      <td>2016</td>\n",
       "      <td>1</td>\n",
       "    </tr>\n",
       "    <tr>\n",
       "      <th>1</th>\n",
       "      <td>1</td>\n",
       "      <td>29.0</td>\n",
       "      <td>male</td>\n",
       "      <td>male</td>\n",
       "      <td>United States of America</td>\n",
       "      <td>6-25</td>\n",
       "      <td>Yes</td>\n",
       "      <td>Yes</td>\n",
       "      <td>Yes</td>\n",
       "      <td>Maybe</td>\n",
       "      <td>No</td>\n",
       "      <td>Somewhat easy</td>\n",
       "      <td>25-34</td>\n",
       "      <td>2016</td>\n",
       "      <td>2</td>\n",
       "    </tr>\n",
       "    <tr>\n",
       "      <th>2</th>\n",
       "      <td>2</td>\n",
       "      <td>38.0</td>\n",
       "      <td>Male</td>\n",
       "      <td>male</td>\n",
       "      <td>United Kingdom</td>\n",
       "      <td>6-25</td>\n",
       "      <td>No</td>\n",
       "      <td>Maybe</td>\n",
       "      <td>No</td>\n",
       "      <td>Yes</td>\n",
       "      <td>Yes</td>\n",
       "      <td>Neither easy nor difficult</td>\n",
       "      <td>35-44</td>\n",
       "      <td>2016</td>\n",
       "      <td>3</td>\n",
       "    </tr>\n",
       "    <tr>\n",
       "      <th>3</th>\n",
       "      <td>3</td>\n",
       "      <td>43.0</td>\n",
       "      <td>male</td>\n",
       "      <td>male</td>\n",
       "      <td>United Kingdom</td>\n",
       "      <td>No Response</td>\n",
       "      <td>No Response</td>\n",
       "      <td>Yes</td>\n",
       "      <td>Yes</td>\n",
       "      <td>Yes</td>\n",
       "      <td>Maybe</td>\n",
       "      <td>No Response</td>\n",
       "      <td>35-44</td>\n",
       "      <td>2016</td>\n",
       "      <td>4</td>\n",
       "    </tr>\n",
       "    <tr>\n",
       "      <th>4</th>\n",
       "      <td>4</td>\n",
       "      <td>43.0</td>\n",
       "      <td>Female</td>\n",
       "      <td>female</td>\n",
       "      <td>United States of America</td>\n",
       "      <td>6-25</td>\n",
       "      <td>No</td>\n",
       "      <td>Yes</td>\n",
       "      <td>Yes</td>\n",
       "      <td>Maybe</td>\n",
       "      <td>No</td>\n",
       "      <td>Neither easy nor difficult</td>\n",
       "      <td>35-44</td>\n",
       "      <td>2016</td>\n",
       "      <td>5</td>\n",
       "    </tr>\n",
       "  </tbody>\n",
       "</table>\n",
       "</div>"
      ],
      "text/plain": [
       "   Unnamed: 0   age original_gender  gender                   country  \\\n",
       "0           0  39.0            Male    male            United Kingdom   \n",
       "1           1  29.0            male    male  United States of America   \n",
       "2           2  38.0           Male     male            United Kingdom   \n",
       "3           3  43.0            male    male            United Kingdom   \n",
       "4           4  43.0          Female  female  United States of America   \n",
       "\n",
       "  num_employees employer_discuss_mh disorder_past disorder_current  \\\n",
       "0        26-100                  No           Yes               No   \n",
       "1          6-25                 Yes           Yes              Yes   \n",
       "2          6-25                  No         Maybe               No   \n",
       "3   No Response         No Response           Yes              Yes   \n",
       "4          6-25                  No           Yes              Yes   \n",
       "\n",
       "  bring_up_phys_issue_in_interview bring_up_mh_issue_in_interview  \\\n",
       "0                            Maybe                          Maybe   \n",
       "1                            Maybe                             No   \n",
       "2                              Yes                            Yes   \n",
       "3                              Yes                          Maybe   \n",
       "4                            Maybe                             No   \n",
       "\n",
       "            request_med_leave age groups  year  individual  \n",
       "0                   Very easy      35-44  2016           1  \n",
       "1               Somewhat easy      25-34  2016           2  \n",
       "2  Neither easy nor difficult      35-44  2016           3  \n",
       "3                 No Response      35-44  2016           4  \n",
       "4  Neither easy nor difficult      35-44  2016           5  "
      ]
     },
     "execution_count": 2,
     "metadata": {},
     "output_type": "execute_result"
    }
   ],
   "source": [
    "combined_data.head()"
   ]
  },
  {
   "cell_type": "code",
   "execution_count": 3,
   "id": "4b3a0b1a",
   "metadata": {},
   "outputs": [
    {
     "data": {
      "text/html": [
       "<div>\n",
       "<style scoped>\n",
       "    .dataframe tbody tr th:only-of-type {\n",
       "        vertical-align: middle;\n",
       "    }\n",
       "\n",
       "    .dataframe tbody tr th {\n",
       "        vertical-align: top;\n",
       "    }\n",
       "\n",
       "    .dataframe thead th {\n",
       "        text-align: right;\n",
       "    }\n",
       "</style>\n",
       "<table border=\"1\" class=\"dataframe\">\n",
       "  <thead>\n",
       "    <tr style=\"text-align: right;\">\n",
       "      <th></th>\n",
       "      <th>age</th>\n",
       "      <th>employer_discuss_mh</th>\n",
       "      <th>request_med_leave</th>\n",
       "      <th>year</th>\n",
       "      <th>comfort_level</th>\n",
       "    </tr>\n",
       "  </thead>\n",
       "  <tbody>\n",
       "    <tr>\n",
       "      <th>0</th>\n",
       "      <td>39.0</td>\n",
       "      <td>No</td>\n",
       "      <td>Very easy</td>\n",
       "      <td>2016</td>\n",
       "      <td>1</td>\n",
       "    </tr>\n",
       "    <tr>\n",
       "      <th>1</th>\n",
       "      <td>29.0</td>\n",
       "      <td>Yes</td>\n",
       "      <td>Somewhat easy</td>\n",
       "      <td>2016</td>\n",
       "      <td>2</td>\n",
       "    </tr>\n",
       "    <tr>\n",
       "      <th>2</th>\n",
       "      <td>38.0</td>\n",
       "      <td>No</td>\n",
       "      <td>Neither easy nor difficult</td>\n",
       "      <td>2016</td>\n",
       "      <td>3</td>\n",
       "    </tr>\n",
       "    <tr>\n",
       "      <th>4</th>\n",
       "      <td>43.0</td>\n",
       "      <td>No</td>\n",
       "      <td>Neither easy nor difficult</td>\n",
       "      <td>2016</td>\n",
       "      <td>3</td>\n",
       "    </tr>\n",
       "    <tr>\n",
       "      <th>5</th>\n",
       "      <td>42.0</td>\n",
       "      <td>No</td>\n",
       "      <td>Somewhat easy</td>\n",
       "      <td>2016</td>\n",
       "      <td>2</td>\n",
       "    </tr>\n",
       "  </tbody>\n",
       "</table>\n",
       "</div>"
      ],
      "text/plain": [
       "    age employer_discuss_mh           request_med_leave  year  comfort_level\n",
       "0  39.0                  No                   Very easy  2016              1\n",
       "1  29.0                 Yes               Somewhat easy  2016              2\n",
       "2  38.0                  No  Neither easy nor difficult  2016              3\n",
       "4  43.0                  No  Neither easy nor difficult  2016              3\n",
       "5  42.0                  No               Somewhat easy  2016              2"
      ]
     },
     "execution_count": 3,
     "metadata": {},
     "output_type": "execute_result"
    }
   ],
   "source": [
    "combined_data['comfort_level'] = ''\n",
    "keep_columns = ['age', 'employer_discuss_mh', 'request_med_leave', 'year', 'comfort_level']\n",
    "narrowed_df = combined_data[keep_columns].copy()\n",
    "#narrowed_df.head()\n",
    "\n",
    "comfort_list = []\n",
    "leave_list = narrowed_df['request_med_leave'].tolist()\n",
    "\n",
    "for level in leave_list:\n",
    "    if level == 'Very easy':\n",
    "        comfort_list.append(1)\n",
    "    elif level == 'Somewhat easy':\n",
    "        comfort_list.append(2)\n",
    "    elif level == 'Neither easy nor difficult':\n",
    "        comfort_list.append(3)\n",
    "    elif level == 'Somewhat difficult':\n",
    "        comfort_list.append(4)\n",
    "    elif level == 'Difficult':\n",
    "        comfort_list.append(5)\n",
    "    elif level == 'Very difficult':\n",
    "        comfort_list.append(6)\n",
    "    else:\n",
    "        comfort_list.append(7)\n",
    "        \n",
    "narrowed_df['comfort_level'] = comfort_list      \n",
    "#narrowed_df.head()\n",
    "regress_df = narrowed_df.loc[narrowed_df['comfort_level'] != 7]\n",
    "regress_df.head()"
   ]
  },
  {
   "cell_type": "code",
   "execution_count": 4,
   "id": "4bd7b6a4",
   "metadata": {},
   "outputs": [
    {
     "data": {
      "text/plain": [
       "2071"
      ]
     },
     "execution_count": 4,
     "metadata": {},
     "output_type": "execute_result"
    }
   ],
   "source": [
    "len(regress_df)"
   ]
  },
  {
   "cell_type": "code",
   "execution_count": 5,
   "id": "72fdc047",
   "metadata": {},
   "outputs": [
    {
     "name": "stdout",
     "output_type": "stream",
     "text": [
      "The r value is: 0.0334159728132353\n"
     ]
    },
    {
     "data": {
      "image/png": "[encoded data removed]",
      "text/plain": [
       "<Figure size 640x480 with 1 Axes>"
      ]
     },
     "metadata": {},
     "output_type": "display_data"
    }
   ],
   "source": [
    "# \n",
    "x_values = regress_df['comfort_level']\n",
    "y_values = regress_df['age']\n",
    "(slope, intercept, rvalue, pvalue, stderr) = linregress(x_values, y_values)\n",
    "regress_values = x_values * slope + intercept\n",
    "line_eq = \"y = \" + str(round(slope,2)) + \"x + \" + str(round(intercept,2))\n",
    "plt.scatter(x_values,y_values)\n",
    "plt.plot(x_values,regress_values,\"r-\")\n",
    "plt.annotate(line_eq,(5.8,0.8),fontsize=15,color=\"red\")\n",
    "plt.xlabel('Comfort Level')\n",
    "plt.ylabel('Age')\n",
    "\n",
    "# Save an image of the chart in Resources\n",
    "plt.savefig(\"Figures/age_discuss_effect.png\")\n",
    "\n",
    "print(f\"The r value is: {rvalue}\")\n",
    "plt.show()"
   ]
  },
  {
   "cell_type": "code",
   "execution_count": 6,
   "id": "b8f11dd2",
   "metadata": {},
   "outputs": [
    {
     "data": {
      "text/plain": [
       "array(['No', 'Yes', \"I don't know\"], dtype=object)"
      ]
     },
     "execution_count": 6,
     "metadata": {},
     "output_type": "execute_result"
    }
   ],
   "source": [
    "regress_df['employer_discuss_mh'].unique()"
   ]
  },
  {
   "cell_type": "code",
   "execution_count": 7,
   "id": "92d4224b",
   "metadata": {},
   "outputs": [],
   "source": [
    "##########################  \n",
    "###\n",
    "###   Set up and experiment with chi\n",
    "###\n",
    "##########################"
   ]
  },
  {
   "cell_type": "code",
   "execution_count": 8,
   "id": "c94fe909",
   "metadata": {},
   "outputs": [
    {
     "data": {
      "text/html": [
       "<div>\n",
       "<style scoped>\n",
       "    .dataframe tbody tr th:only-of-type {\n",
       "        vertical-align: middle;\n",
       "    }\n",
       "\n",
       "    .dataframe tbody tr th {\n",
       "        vertical-align: top;\n",
       "    }\n",
       "\n",
       "    .dataframe thead th {\n",
       "        text-align: right;\n",
       "    }\n",
       "</style>\n",
       "<table border=\"1\" class=\"dataframe\">\n",
       "  <thead>\n",
       "    <tr style=\"text-align: right;\">\n",
       "      <th></th>\n",
       "      <th>age</th>\n",
       "      <th>employer_discuss_mh</th>\n",
       "      <th>request_med_leave</th>\n",
       "      <th>year</th>\n",
       "      <th>comfort_level</th>\n",
       "    </tr>\n",
       "  </thead>\n",
       "  <tbody>\n",
       "    <tr>\n",
       "      <th>1</th>\n",
       "      <td>29.0</td>\n",
       "      <td>Yes</td>\n",
       "      <td>Somewhat easy</td>\n",
       "      <td>2016</td>\n",
       "      <td>2</td>\n",
       "    </tr>\n",
       "    <tr>\n",
       "      <th>10</th>\n",
       "      <td>28.0</td>\n",
       "      <td>Yes</td>\n",
       "      <td>Very easy</td>\n",
       "      <td>2016</td>\n",
       "      <td>1</td>\n",
       "    </tr>\n",
       "    <tr>\n",
       "      <th>13</th>\n",
       "      <td>44.0</td>\n",
       "      <td>Yes</td>\n",
       "      <td>Somewhat easy</td>\n",
       "      <td>2016</td>\n",
       "      <td>2</td>\n",
       "    </tr>\n",
       "    <tr>\n",
       "      <th>21</th>\n",
       "      <td>35.0</td>\n",
       "      <td>Yes</td>\n",
       "      <td>Somewhat easy</td>\n",
       "      <td>2016</td>\n",
       "      <td>2</td>\n",
       "    </tr>\n",
       "    <tr>\n",
       "      <th>28</th>\n",
       "      <td>34.0</td>\n",
       "      <td>Yes</td>\n",
       "      <td>Neither easy nor difficult</td>\n",
       "      <td>2016</td>\n",
       "      <td>3</td>\n",
       "    </tr>\n",
       "  </tbody>\n",
       "</table>\n",
       "</div>"
      ],
      "text/plain": [
       "     age employer_discuss_mh           request_med_leave  year  comfort_level\n",
       "1   29.0                 Yes               Somewhat easy  2016              2\n",
       "10  28.0                 Yes                   Very easy  2016              1\n",
       "13  44.0                 Yes               Somewhat easy  2016              2\n",
       "21  35.0                 Yes               Somewhat easy  2016              2\n",
       "28  34.0                 Yes  Neither easy nor difficult  2016              3"
      ]
     },
     "execution_count": 8,
     "metadata": {},
     "output_type": "execute_result"
    }
   ],
   "source": [
    "chi_yes_df = regress_df.loc[regress_df['employer_discuss_mh'] == 'Yes']\n",
    "chi_yes_df.head()"
   ]
  },
  {
   "cell_type": "code",
   "execution_count": 9,
   "id": "2a4bff57",
   "metadata": {},
   "outputs": [
    {
     "data": {
      "text/plain": [
       "comfort_level\n",
       "2    192\n",
       "1    172\n",
       "3     73\n",
       "4     60\n",
       "5     14\n",
       "6     10\n",
       "Name: count, dtype: int64"
      ]
     },
     "execution_count": 9,
     "metadata": {},
     "output_type": "execute_result"
    }
   ],
   "source": [
    "chi_yes_df['comfort_level'].value_counts()"
   ]
  },
  {
   "cell_type": "code",
   "execution_count": 10,
   "id": "816c47ca",
   "metadata": {},
   "outputs": [
    {
     "data": {
      "text/plain": [
       "0    2\n",
       "Name: comfort_level, dtype: int64"
      ]
     },
     "execution_count": 10,
     "metadata": {},
     "output_type": "execute_result"
    }
   ],
   "source": [
    "chi_no_idk_df = regress_df.loc[regress_df['employer_discuss_mh'] != 'Yes']\n",
    "chi_no_idk_df.head()\n",
    "mode = chi_no_idk_df['comfort_level'].mode()\n",
    "mode"
   ]
  },
  {
   "cell_type": "code",
   "execution_count": 11,
   "id": "ec30c298",
   "metadata": {},
   "outputs": [
    {
     "data": {
      "text/plain": [
       "comfort_level\n",
       "2    443\n",
       "1    333\n",
       "4    297\n",
       "3    271\n",
       "6    108\n",
       "5     98\n",
       "Name: count, dtype: int64"
      ]
     },
     "execution_count": 11,
     "metadata": {},
     "output_type": "execute_result"
    }
   ],
   "source": [
    "chi_no_idk_df['comfort_level'].value_counts()"
   ]
  },
  {
   "cell_type": "code",
   "execution_count": 12,
   "id": "9866de3b",
   "metadata": {},
   "outputs": [
    {
     "data": {
      "text/html": [
       "<div>\n",
       "<style scoped>\n",
       "    .dataframe tbody tr th:only-of-type {\n",
       "        vertical-align: middle;\n",
       "    }\n",
       "\n",
       "    .dataframe tbody tr th {\n",
       "        vertical-align: top;\n",
       "    }\n",
       "\n",
       "    .dataframe thead th {\n",
       "        text-align: right;\n",
       "    }\n",
       "</style>\n",
       "<table border=\"1\" class=\"dataframe\">\n",
       "  <thead>\n",
       "    <tr style=\"text-align: right;\">\n",
       "      <th></th>\n",
       "      <th>observed</th>\n",
       "      <th>expected</th>\n",
       "    </tr>\n",
       "  </thead>\n",
       "  <tbody>\n",
       "    <tr>\n",
       "      <th>0</th>\n",
       "      <td>172</td>\n",
       "      <td>104</td>\n",
       "    </tr>\n",
       "    <tr>\n",
       "      <th>1</th>\n",
       "      <td>192</td>\n",
       "      <td>262</td>\n",
       "    </tr>\n",
       "    <tr>\n",
       "      <th>2</th>\n",
       "      <td>73</td>\n",
       "      <td>78</td>\n",
       "    </tr>\n",
       "    <tr>\n",
       "      <th>3</th>\n",
       "      <td>60</td>\n",
       "      <td>41</td>\n",
       "    </tr>\n",
       "    <tr>\n",
       "      <th>4</th>\n",
       "      <td>14</td>\n",
       "      <td>26</td>\n",
       "    </tr>\n",
       "    <tr>\n",
       "      <th>5</th>\n",
       "      <td>10</td>\n",
       "      <td>10</td>\n",
       "    </tr>\n",
       "  </tbody>\n",
       "</table>\n",
       "</div>"
      ],
      "text/plain": [
       "   observed  expected\n",
       "0       172       104\n",
       "1       192       262\n",
       "2        73        78\n",
       "3        60        41\n",
       "4        14        26\n",
       "5        10        10"
      ]
     },
     "execution_count": 12,
     "metadata": {},
     "output_type": "execute_result"
    }
   ],
   "source": [
    "#len(chi_no_idk_df)\n",
    "no_idk_observed = [333, 443, 271, 297, 98, 108]\n",
    "#len(chi_yes_df)\n",
    "yes_observed = [172, 192, 73, 60, 14, 10]\n",
    "\n",
    "observed = yes_observed\n",
    "# expected is based on a hypothesis of comfort level distribution of [20%,50%,15%,8%,5%,2%]\n",
    "expected = [104, 262, 78, 41, 26, 10]\n",
    "\n",
    "df = pd.DataFrame([observed]).T\n",
    "\n",
    "# Add a column whose default values are the expected values\n",
    "df[1] = expected\n",
    "\n",
    "# Rename the columns\n",
    "df.columns = [\"observed\", \"expected\"]\n",
    "\n",
    "# View the data frame\n",
    "df"
   ]
  },
  {
   "cell_type": "code",
   "execution_count": 13,
   "id": "abfde152",
   "metadata": {},
   "outputs": [
    {
     "data": {
      "text/plain": [
       "11.070497693516351"
      ]
     },
     "execution_count": 13,
     "metadata": {},
     "output_type": "execute_result"
    }
   ],
   "source": [
    "# With 6 rows, the degree of freedom is 6-1 = 5\n",
    "# With a p-value of 0.05, the confidence level is 1.00-0.05 = 0.95.\n",
    "critical_value = stats.chi2.ppf(q = 0.95, df = 5)\n",
    "\n",
    "# The critical value\n",
    "critical_value"
   ]
  },
  {
   "cell_type": "code",
   "execution_count": 14,
   "id": "395bdb9b",
   "metadata": {},
   "outputs": [
    {
     "data": {
      "text/plain": [
       "Power_divergenceResult(statistic=77.82768094562918, pvalue=2.388274739827565e-15)"
      ]
     },
     "execution_count": 14,
     "metadata": {},
     "output_type": "execute_result"
    }
   ],
   "source": [
    "# Run the chi square test with stats.chisquare()\n",
    "stats.chisquare(df['observed'], df['expected'])"
   ]
  },
  {
   "cell_type": "code",
   "execution_count": 15,
   "id": "227e0e7f",
   "metadata": {},
   "outputs": [],
   "source": [
    "##########################  \n",
    "###\n",
    "###   Chart Employer Discussing MH vs Comfort with Requesting Leave\n",
    "###\n",
    "##########################"
   ]
  },
  {
   "cell_type": "code",
   "execution_count": 16,
   "id": "b37807bb",
   "metadata": {},
   "outputs": [
    {
     "data": {
      "text/html": [
       "<div>\n",
       "<style scoped>\n",
       "    .dataframe tbody tr th:only-of-type {\n",
       "        vertical-align: middle;\n",
       "    }\n",
       "\n",
       "    .dataframe tbody tr th {\n",
       "        vertical-align: top;\n",
       "    }\n",
       "\n",
       "    .dataframe thead th {\n",
       "        text-align: right;\n",
       "    }\n",
       "</style>\n",
       "<table border=\"1\" class=\"dataframe\">\n",
       "  <thead>\n",
       "    <tr style=\"text-align: right;\">\n",
       "      <th></th>\n",
       "      <th>age</th>\n",
       "      <th>employer_discuss_mh</th>\n",
       "      <th>request_med_leave</th>\n",
       "      <th>year</th>\n",
       "      <th>comfort_level</th>\n",
       "    </tr>\n",
       "  </thead>\n",
       "  <tbody>\n",
       "    <tr>\n",
       "      <th>1</th>\n",
       "      <td>29.0</td>\n",
       "      <td>Yes</td>\n",
       "      <td>Somewhat easy</td>\n",
       "      <td>2016</td>\n",
       "      <td>2</td>\n",
       "    </tr>\n",
       "    <tr>\n",
       "      <th>10</th>\n",
       "      <td>28.0</td>\n",
       "      <td>Yes</td>\n",
       "      <td>Very easy</td>\n",
       "      <td>2016</td>\n",
       "      <td>1</td>\n",
       "    </tr>\n",
       "    <tr>\n",
       "      <th>13</th>\n",
       "      <td>44.0</td>\n",
       "      <td>Yes</td>\n",
       "      <td>Somewhat easy</td>\n",
       "      <td>2016</td>\n",
       "      <td>2</td>\n",
       "    </tr>\n",
       "    <tr>\n",
       "      <th>21</th>\n",
       "      <td>35.0</td>\n",
       "      <td>Yes</td>\n",
       "      <td>Somewhat easy</td>\n",
       "      <td>2016</td>\n",
       "      <td>2</td>\n",
       "    </tr>\n",
       "    <tr>\n",
       "      <th>28</th>\n",
       "      <td>34.0</td>\n",
       "      <td>Yes</td>\n",
       "      <td>Neither easy nor difficult</td>\n",
       "      <td>2016</td>\n",
       "      <td>3</td>\n",
       "    </tr>\n",
       "  </tbody>\n",
       "</table>\n",
       "</div>"
      ],
      "text/plain": [
       "     age employer_discuss_mh           request_med_leave  year  comfort_level\n",
       "1   29.0                 Yes               Somewhat easy  2016              2\n",
       "10  28.0                 Yes                   Very easy  2016              1\n",
       "13  44.0                 Yes               Somewhat easy  2016              2\n",
       "21  35.0                 Yes               Somewhat easy  2016              2\n",
       "28  34.0                 Yes  Neither easy nor difficult  2016              3"
      ]
     },
     "execution_count": 16,
     "metadata": {},
     "output_type": "execute_result"
    }
   ],
   "source": [
    "chi_no_idk_df = regress_df.loc[regress_df['employer_discuss_mh'] != 'Yes']\n",
    "chi_yes_df.head()"
   ]
  },
  {
   "cell_type": "code",
   "execution_count": 17,
   "id": "88903c28",
   "metadata": {},
   "outputs": [],
   "source": [
    "yes_list = yes_observed\n",
    "no_idk_list = no_idk_observed \n",
    "chi_yes_mean = chi_yes_df[\"comfort_level\"].mean()\n",
    "chi_yes_mean\n",
    "chi_no_idk_mean = chi_no_idk_df[\"comfort_level\"].mean()"
   ]
  },
  {
   "cell_type": "code",
   "execution_count": 18,
   "id": "0d09979c",
   "metadata": {},
   "outputs": [
    {
     "data": {
      "image/png": "[encoded data removed]",
      "text/plain": [
       "<Figure size 640x480 with 1 Axes>"
      ]
     },
     "metadata": {},
     "output_type": "display_data"
    }
   ],
   "source": [
    "answers = ['Very easy','Somewhat\\n easy','Neither easy\\n nor difficult','Somewhat\\n difficult','Difficult','Very difficult']\n",
    "\n",
    "x_axis = np.arange(len(answers))\n",
    "\n",
    "plt.bar(x_axis + 0.2, no_idk_list, 0.4, label = \"No or I Don't Know\") \n",
    "plt.bar(x_axis - 0.2, yes_list, 0.4, label = 'Yes') \n",
    "\n",
    "plt.xticks(x_axis, answers, rotation='vertical') \n",
    "plt.title(\"Employer Discussion of Mental Health Effect\\n on Comfort Level of Requesting Leave?\")\n",
    "plt.xlabel(\"How Difficult Would It Be To Ask For\\n A Leave Because Of A Mental Health Issue?\")\n",
    "plt.ylabel(\"Has Employer Discussed Mental Health Policies?\")\n",
    "plt.vlines(x = chi_yes_mean-1, ymin = 0, ymax = max(yes_list), color = 'orange', linestyle = ':', label = \"mean\")\n",
    "plt.vlines(x = chi_no_idk_mean-1, ymin = 0, ymax = max(no_idk_list), color = 'blue', linestyle = ':', label = \"mean\")\n",
    "plt.legend()\n",
    "\n",
    "# Save an image of the chart in Resources\n",
    "plt.savefig(\"Figures/employer_discuss_effect.png\")\n",
    "\n",
    "plt.show()"
   ]
  },
  {
   "cell_type": "code",
   "execution_count": 19,
   "id": "7f606c92",
   "metadata": {},
   "outputs": [
    {
     "data": {
      "text/plain": [
       "year\n",
       "2016    2.260870\n",
       "2017    2.137681\n",
       "2018    1.988889\n",
       "2019    2.360465\n",
       "Name: comfort_level, dtype: float64"
      ]
     },
     "execution_count": 19,
     "metadata": {},
     "output_type": "execute_result"
    }
   ],
   "source": [
    "per_year_yes_mean = chi_yes_df.groupby(\"year\")[\"comfort_level\"].mean()\n",
    "per_year_yes_mean"
   ]
  },
  {
   "cell_type": "code",
   "execution_count": 20,
   "id": "063e8bee",
   "metadata": {},
   "outputs": [
    {
     "data": {
      "text/plain": [
       "year\n",
       "2016    2.982188\n",
       "2017    2.630000\n",
       "2018    2.743719\n",
       "2019    2.521212\n",
       "Name: comfort_level, dtype: float64"
      ]
     },
     "execution_count": 20,
     "metadata": {},
     "output_type": "execute_result"
    }
   ],
   "source": [
    "per_year_noidk_mean = chi_no_idk_df.groupby(\"year\")[\"comfort_level\"].mean()\n",
    "per_year_noidk_mean"
   ]
  },
  {
   "cell_type": "code",
   "execution_count": null,
   "id": "f48e2121",
   "metadata": {},
   "outputs": [],
   "source": []
  }
 ],
 "metadata": {
  "kernelspec": {
   "display_name": "Python 3 (ipykernel)",
   "language": "python",
   "name": "python3"
  },
  "language_info": {
   "codemirror_mode": {
    "name": "ipython",
    "version": 3
   },
   "file_extension": ".py",
   "mimetype": "text/x-python",
   "name": "python",
   "nbconvert_exporter": "python",
   "pygments_lexer": "ipython3",
   "version": "3.10.13"
  }
 },
 "nbformat": 4,
 "nbformat_minor": 5
}
