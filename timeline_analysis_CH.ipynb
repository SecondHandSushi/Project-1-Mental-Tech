{
 "cells": [
  {
   "cell_type": "markdown",
   "id": "14d798ed",
   "metadata": {},
   "source": [
    "Analyze timeline data, 2016-2019"
   ]
  },
  {
   "cell_type": "code",
   "execution_count": 1,
   "id": "6007a62d",
   "metadata": {},
   "outputs": [],
   "source": [
    "# Dependencies and Setup\n",
    "import matplotlib.pyplot as plt\n",
    "import pandas as pd\n",
    "import scipy.stats as st\n",
    "from pprint import pprint\n",
    "from pathlib import Path\n",
    "import numpy as np\n",
    "\n",
    "# File locations\n",
    "combined = \"Resources/combined_df.csv\"\n",
    "\n",
    "# Reading the data\n",
    "combined_data = pd.read_csv(combined)"
   ]
  },
  {
   "cell_type": "code",
   "execution_count": 2,
   "id": "7fe2fc45",
   "metadata": {},
   "outputs": [
    {
     "data": {
      "text/html": [
       "<div>\n",
       "<style scoped>\n",
       "    .dataframe tbody tr th:only-of-type {\n",
       "        vertical-align: middle;\n",
       "    }\n",
       "\n",
       "    .dataframe tbody tr th {\n",
       "        vertical-align: top;\n",
       "    }\n",
       "\n",
       "    .dataframe thead th {\n",
       "        text-align: right;\n",
       "    }\n",
       "</style>\n",
       "<table border=\"1\" class=\"dataframe\">\n",
       "  <thead>\n",
       "    <tr style=\"text-align: right;\">\n",
       "      <th></th>\n",
       "      <th>Unnamed: 0</th>\n",
       "      <th>age</th>\n",
       "      <th>original_gender</th>\n",
       "      <th>gender</th>\n",
       "      <th>country</th>\n",
       "      <th>num_employees</th>\n",
       "      <th>employer_discuss_mh</th>\n",
       "      <th>disorder_past</th>\n",
       "      <th>disorder_current</th>\n",
       "      <th>bring_up_phys_issue_in_interview</th>\n",
       "      <th>bring_up_mh_issue_in_interview</th>\n",
       "      <th>request_med_leave</th>\n",
       "      <th>age groups</th>\n",
       "      <th>year</th>\n",
       "      <th>individual</th>\n",
       "    </tr>\n",
       "  </thead>\n",
       "  <tbody>\n",
       "    <tr>\n",
       "      <th>0</th>\n",
       "      <td>0</td>\n",
       "      <td>39.0</td>\n",
       "      <td>Male</td>\n",
       "      <td>male</td>\n",
       "      <td>United Kingdom</td>\n",
       "      <td>26-100</td>\n",
       "      <td>No</td>\n",
       "      <td>Yes</td>\n",
       "      <td>No</td>\n",
       "      <td>Maybe</td>\n",
       "      <td>Maybe</td>\n",
       "      <td>Very easy</td>\n",
       "      <td>35-44</td>\n",
       "      <td>2016</td>\n",
       "      <td>1</td>\n",
       "    </tr>\n",
       "    <tr>\n",
       "      <th>1</th>\n",
       "      <td>1</td>\n",
       "      <td>29.0</td>\n",
       "      <td>male</td>\n",
       "      <td>male</td>\n",
       "      <td>United States of America</td>\n",
       "      <td>6-25</td>\n",
       "      <td>Yes</td>\n",
       "      <td>Yes</td>\n",
       "      <td>Yes</td>\n",
       "      <td>Maybe</td>\n",
       "      <td>No</td>\n",
       "      <td>Somewhat easy</td>\n",
       "      <td>25-34</td>\n",
       "      <td>2016</td>\n",
       "      <td>2</td>\n",
       "    </tr>\n",
       "    <tr>\n",
       "      <th>2</th>\n",
       "      <td>2</td>\n",
       "      <td>38.0</td>\n",
       "      <td>Male</td>\n",
       "      <td>male</td>\n",
       "      <td>United Kingdom</td>\n",
       "      <td>6-25</td>\n",
       "      <td>No</td>\n",
       "      <td>Maybe</td>\n",
       "      <td>No</td>\n",
       "      <td>Yes</td>\n",
       "      <td>Yes</td>\n",
       "      <td>Neither easy nor difficult</td>\n",
       "      <td>35-44</td>\n",
       "      <td>2016</td>\n",
       "      <td>3</td>\n",
       "    </tr>\n",
       "    <tr>\n",
       "      <th>3</th>\n",
       "      <td>3</td>\n",
       "      <td>43.0</td>\n",
       "      <td>male</td>\n",
       "      <td>male</td>\n",
       "      <td>United Kingdom</td>\n",
       "      <td>No Response</td>\n",
       "      <td>No Response</td>\n",
       "      <td>Yes</td>\n",
       "      <td>Yes</td>\n",
       "      <td>Yes</td>\n",
       "      <td>Maybe</td>\n",
       "      <td>No Response</td>\n",
       "      <td>35-44</td>\n",
       "      <td>2016</td>\n",
       "      <td>4</td>\n",
       "    </tr>\n",
       "    <tr>\n",
       "      <th>4</th>\n",
       "      <td>4</td>\n",
       "      <td>43.0</td>\n",
       "      <td>Female</td>\n",
       "      <td>female</td>\n",
       "      <td>United States of America</td>\n",
       "      <td>6-25</td>\n",
       "      <td>No</td>\n",
       "      <td>Yes</td>\n",
       "      <td>Yes</td>\n",
       "      <td>Maybe</td>\n",
       "      <td>No</td>\n",
       "      <td>Neither easy nor difficult</td>\n",
       "      <td>35-44</td>\n",
       "      <td>2016</td>\n",
       "      <td>5</td>\n",
       "    </tr>\n",
       "  </tbody>\n",
       "</table>\n",
       "</div>"
      ],
      "text/plain": [
       "   Unnamed: 0   age original_gender  gender                   country  \\\n",
       "0           0  39.0            Male    male            United Kingdom   \n",
       "1           1  29.0            male    male  United States of America   \n",
       "2           2  38.0           Male     male            United Kingdom   \n",
       "3           3  43.0            male    male            United Kingdom   \n",
       "4           4  43.0          Female  female  United States of America   \n",
       "\n",
       "  num_employees employer_discuss_mh disorder_past disorder_current  \\\n",
       "0        26-100                  No           Yes               No   \n",
       "1          6-25                 Yes           Yes              Yes   \n",
       "2          6-25                  No         Maybe               No   \n",
       "3   No Response         No Response           Yes              Yes   \n",
       "4          6-25                  No           Yes              Yes   \n",
       "\n",
       "  bring_up_phys_issue_in_interview bring_up_mh_issue_in_interview  \\\n",
       "0                            Maybe                          Maybe   \n",
       "1                            Maybe                             No   \n",
       "2                              Yes                            Yes   \n",
       "3                              Yes                          Maybe   \n",
       "4                            Maybe                             No   \n",
       "\n",
       "            request_med_leave age groups  year  individual  \n",
       "0                   Very easy      35-44  2016           1  \n",
       "1               Somewhat easy      25-34  2016           2  \n",
       "2  Neither easy nor difficult      35-44  2016           3  \n",
       "3                 No Response      35-44  2016           4  \n",
       "4  Neither easy nor difficult      35-44  2016           5  "
      ]
     },
     "execution_count": 2,
     "metadata": {},
     "output_type": "execute_result"
    }
   ],
   "source": [
    "combined_data.head()"
   ]
  },
  {
   "cell_type": "code",
   "execution_count": 3,
   "id": "5e9fe1fc",
   "metadata": {},
   "outputs": [],
   "source": [
    "combined_data = combined_data.fillna(\n",
    "    {       \n",
    "        \"gender\": 'No Response',\n",
    "            }\n",
    ")\n",
    "#combined_data.count()"
   ]
  },
  {
   "cell_type": "code",
   "execution_count": 4,
   "id": "43229d18",
   "metadata": {},
   "outputs": [
    {
     "data": {
      "text/plain": [
       "array(['Very easy', 'Somewhat easy', 'Neither easy nor difficult',\n",
       "       'No Response', 'Very difficult', 'Somewhat difficult',\n",
       "       \"I don't know\", 'Difficult'], dtype=object)"
      ]
     },
     "execution_count": 4,
     "metadata": {},
     "output_type": "execute_result"
    }
   ],
   "source": [
    "combined_data['request_med_leave'].unique()"
   ]
  },
  {
   "cell_type": "code",
   "execution_count": 5,
   "id": "2c7758d1",
   "metadata": {},
   "outputs": [],
   "source": [
    "#df_2016['request_med_leave'].unique()"
   ]
  },
  {
   "cell_type": "code",
   "execution_count": 6,
   "id": "e08d24c5",
   "metadata": {},
   "outputs": [],
   "source": [
    "#df_2017['request_med_leave'].unique()"
   ]
  },
  {
   "cell_type": "code",
   "execution_count": 7,
   "id": "cb8ddf84",
   "metadata": {},
   "outputs": [],
   "source": [
    "#df_2018['request_med_leave'].unique()"
   ]
  },
  {
   "cell_type": "code",
   "execution_count": 8,
   "id": "0afc20fd",
   "metadata": {},
   "outputs": [],
   "source": [
    "#df_2019['request_med_leave'].unique()"
   ]
  },
  {
   "cell_type": "code",
   "execution_count": 9,
   "id": "d2cb8341",
   "metadata": {},
   "outputs": [],
   "source": [
    "# Set up df for each year\n",
    "df_2016 = combined_data.loc[combined_data['year'] == 2016]\n",
    "df_2017 = combined_data.loc[combined_data['year'] == 2017]\n",
    "df_2018 = combined_data.loc[combined_data['year'] == 2018]\n",
    "df_2019 = combined_data.loc[combined_data['year'] == 2019]"
   ]
  },
  {
   "cell_type": "code",
   "execution_count": 10,
   "id": "4e7efdce",
   "metadata": {},
   "outputs": [
    {
     "name": "stdout",
     "output_type": "stream",
     "text": [
      "['Maybe' 'Yes' 'No']\n",
      "['Maybe' 'No' 'Yes']\n",
      "['Very easy' 'Somewhat easy' 'Neither easy nor difficult' 'No Response'\n",
      " 'Very difficult' 'Somewhat difficult' \"I don't know\" 'Difficult']\n"
     ]
    }
   ],
   "source": [
    "print(combined_data['bring_up_phys_issue_in_interview'].unique())\n",
    "print(combined_data['bring_up_mh_issue_in_interview'].unique())\n",
    "print(combined_data['request_med_leave'].unique())"
   ]
  },
  {
   "cell_type": "code",
   "execution_count": null,
   "id": "eb3b423e",
   "metadata": {},
   "outputs": [],
   "source": []
  },
  {
   "cell_type": "code",
   "execution_count": 11,
   "id": "76249c05",
   "metadata": {},
   "outputs": [
    {
     "name": "stdout",
     "output_type": "stream",
     "text": [
      "23.59\n",
      "42.78\n",
      "33.63\n"
     ]
    }
   ],
   "source": [
    "# Get counts for overall time chart\n",
    "total_ids = len(combined_data)\n",
    "\n",
    "all_yes_phy_issue = combined_data[(combined_data['bring_up_phys_issue_in_interview'] == 'Yes')].count()['individual']\n",
    "pct_yes_phy_issue = round(all_yes_phy_issue / total_ids * 100, 2)\n",
    "print(pct_yes_phy_issue)\n",
    "\n",
    "all_maybe_phy_issue = combined_data[(combined_data['bring_up_phys_issue_in_interview'] == 'Maybe')].count()['individual']\n",
    "pct_maybe_phy_issue = round(all_maybe_phy_issue / total_ids * 100, 2)\n",
    "print(pct_maybe_phy_issue)\n",
    "\n",
    "all_no_phy_issue = combined_data[(combined_data['bring_up_phys_issue_in_interview'] == 'No')].count()['individual']\n",
    "pct_no_phy_issue = round(all_no_phy_issue / total_ids * 100, 2)\n",
    "print(pct_no_phy_issue)\n"
   ]
  },
  {
   "cell_type": "code",
   "execution_count": 12,
   "id": "17e4134d",
   "metadata": {},
   "outputs": [
    {
     "name": "stdout",
     "output_type": "stream",
     "text": [
      "6.27\n",
      "28.03\n",
      "65.69\n"
     ]
    }
   ],
   "source": [
    "all_yes_mh_issue = combined_data[(combined_data['bring_up_mh_issue_in_interview'] == 'Yes')].count()['individual']\n",
    "pct_yes_mh_issue = round(all_yes_mh_issue / total_ids * 100, 2)\n",
    "print(pct_yes_mh_issue)\n",
    "\n",
    "all_maybe_mh_issue = combined_data[(combined_data['bring_up_mh_issue_in_interview'] == 'Maybe')].count()['individual']\n",
    "pct_maybe_mh_issue = round(all_maybe_mh_issue / total_ids * 100, 2)\n",
    "print(pct_maybe_mh_issue)\n",
    "\n",
    "all_no_mh_issue = combined_data[(combined_data['bring_up_mh_issue_in_interview'] == 'No')].count()['individual']\n",
    "pct_no_mh_issue = round(all_no_mh_issue / total_ids * 100, 2)\n",
    "print(pct_no_mh_issue)\n"
   ]
  },
  {
   "cell_type": "code",
   "execution_count": 13,
   "id": "c6645668",
   "metadata": {},
   "outputs": [
    {
     "data": {
      "image/png": "[encoded data removed]",
      "text/plain": [
       "<Figure size 640x480 with 1 Axes>"
      ]
     },
     "metadata": {},
     "output_type": "display_data"
    }
   ],
   "source": [
    "mh_total = [pct_yes_mh_issue, pct_maybe_mh_issue, pct_no_mh_issue]\n",
    "ph_total = [pct_yes_phy_issue, pct_maybe_phy_issue, pct_no_phy_issue]\n",
    "answers = ['Yes', 'Maybe', 'No']\n",
    "x_axis = np.arange(len(answers))\n",
    "\n",
    "plt.bar(x_axis - 0.2, ph_total, 0.4, label = 'Physical Health') \n",
    "plt.bar(x_axis + 0.2, mh_total, 0.4, label = 'Mental Health') \n",
    "\n",
    "plt.xticks(x_axis, answers) \n",
    "plt.title(\"Would you bring up Physical or Mental Health Issues in an interview?\")\n",
    "plt.xlabel(\"Respondent Answers\")\n",
    "plt.ylabel(\"Percentages of Total Respondents\\n from 2016, 2017, 2018 and 2019\")\n",
    "plt.legend()\n",
    "\n",
    "# Save an image of the chart in Resources\n",
    "plt.savefig(\"Figures/ph_v_mh_total_bar.png\")\n",
    "\n",
    "plt.show()\n"
   ]
  },
  {
   "cell_type": "code",
   "execution_count": 14,
   "id": "ae5cfebf",
   "metadata": {},
   "outputs": [
    {
     "name": "stdout",
     "output_type": "stream",
     "text": [
      "1428\n",
      "24.93\n",
      "44.19\n",
      "30.88\n"
     ]
    }
   ],
   "source": [
    "total_ids_2016 = len(df_2016)\n",
    "print(total_ids_2016)\n",
    "\n",
    "yes_phy_2016 = df_2016[(df_2016['bring_up_phys_issue_in_interview'] == 'Yes')].count()['individual']\n",
    "pct_yes_phy_2016 = round(yes_phy_2016 / total_ids_2016 * 100, 2)\n",
    "print(pct_yes_phy_2016)\n",
    "\n",
    "maybe_phy_2016 = df_2016[(df_2016['bring_up_phys_issue_in_interview'] == 'Maybe')].count()['individual']\n",
    "pct_maybe_phy_2016 = round(maybe_phy_2016 / total_ids_2016 * 100, 2)\n",
    "print(pct_maybe_phy_2016)\n",
    "\n",
    "no_phy_2016 = df_2016[(df_2016['bring_up_phys_issue_in_interview'] == 'No')].count()['individual']\n",
    "pct_no_phy_2016 = round(no_phy_2016 / total_ids_2016 * 100, 2)\n",
    "print(pct_no_phy_2016)"
   ]
  },
  {
   "cell_type": "code",
   "execution_count": 15,
   "id": "9822f044",
   "metadata": {},
   "outputs": [
    {
     "name": "stdout",
     "output_type": "stream",
     "text": [
      "754\n",
      "23.21\n",
      "40.05\n",
      "36.74\n"
     ]
    }
   ],
   "source": [
    "total_ids_2017 = len(df_2017)\n",
    "print(total_ids_2017)\n",
    "\n",
    "yes_phy_2017 = df_2017[(df_2017['bring_up_phys_issue_in_interview'] == 'Yes')].count()['individual']\n",
    "pct_yes_phy_2017 = round(yes_phy_2017 / total_ids_2017 * 100, 2)\n",
    "print(pct_yes_phy_2017)\n",
    "\n",
    "maybe_phy_2017 = df_2017[(df_2017['bring_up_phys_issue_in_interview'] == 'Maybe')].count()['individual']\n",
    "pct_maybe_phy_2017 = round(maybe_phy_2017 / total_ids_2017 * 100, 2)\n",
    "print(pct_maybe_phy_2017)\n",
    "\n",
    "no_phy_2017 = df_2017[(df_2017['bring_up_phys_issue_in_interview'] == 'No')].count()['individual']\n",
    "pct_no_phy_2017 = round(no_phy_2017 / total_ids_2017 * 100, 2)\n",
    "print(pct_no_phy_2017)"
   ]
  },
  {
   "cell_type": "code",
   "execution_count": 16,
   "id": "74228fea",
   "metadata": {},
   "outputs": [
    {
     "name": "stdout",
     "output_type": "stream",
     "text": [
      "417\n",
      "18.94\n",
      "42.45\n",
      "38.61\n"
     ]
    }
   ],
   "source": [
    "total_ids_2018 = len(df_2018)\n",
    "print(total_ids_2018)\n",
    "\n",
    "yes_phy_2018 = df_2018[(df_2018['bring_up_phys_issue_in_interview'] == 'Yes')].count()['individual']\n",
    "pct_yes_phy_2018 = round(yes_phy_2018 / total_ids_2018 * 100, 2)\n",
    "print(pct_yes_phy_2018)\n",
    "\n",
    "maybe_phy_2018 = df_2018[(df_2018['bring_up_phys_issue_in_interview'] == 'Maybe')].count()['individual']\n",
    "pct_maybe_phy_2018 = round(maybe_phy_2018 / total_ids_2018 * 100, 2)\n",
    "print(pct_maybe_phy_2018)\n",
    "\n",
    "no_phy_2018 = df_2018[(df_2018['bring_up_phys_issue_in_interview'] == 'No')].count()['individual']\n",
    "pct_no_phy_2018 = round(no_phy_2018 / total_ids_2018 * 100, 2)\n",
    "print(pct_no_phy_2018)"
   ]
  },
  {
   "cell_type": "code",
   "execution_count": 17,
   "id": "90234241",
   "metadata": {},
   "outputs": [
    {
     "name": "stdout",
     "output_type": "stream",
     "text": [
      "351\n",
      "24.5\n",
      "43.3\n",
      "32.19\n"
     ]
    }
   ],
   "source": [
    "total_ids_2019 = len(df_2019)\n",
    "print(total_ids_2019)\n",
    "\n",
    "yes_phy_2019 = df_2019[(df_2019['bring_up_phys_issue_in_interview'] == 'Yes')].count()['individual']\n",
    "pct_yes_phy_2019 = round(yes_phy_2019 / total_ids_2019 * 100, 2)\n",
    "print(pct_yes_phy_2019)\n",
    "\n",
    "maybe_phy_2019 = df_2019[(df_2019['bring_up_phys_issue_in_interview'] == 'Maybe')].count()['individual']\n",
    "pct_maybe_phy_2019 = round(maybe_phy_2019 / total_ids_2019 * 100, 2)\n",
    "print(pct_maybe_phy_2019)\n",
    "\n",
    "no_phy_2019 = df_2019[(df_2019['bring_up_phys_issue_in_interview'] == 'No')].count()['individual']\n",
    "pct_no_phy_2019 = round(no_phy_2019 / total_ids_2019 * 100, 2)\n",
    "print(pct_no_phy_2019)"
   ]
  },
  {
   "cell_type": "code",
   "execution_count": 18,
   "id": "4cb92766",
   "metadata": {},
   "outputs": [
    {
     "data": {
      "text/plain": [
       "array(['Very easy', 'Somewhat easy', 'Neither easy nor difficult',\n",
       "       'No Response', 'Very difficult', 'Somewhat difficult',\n",
       "       \"I don't know\", 'Difficult'], dtype=object)"
      ]
     },
     "execution_count": 18,
     "metadata": {},
     "output_type": "execute_result"
    }
   ],
   "source": [
    "combined_data['request_med_leave'].unique()"
   ]
  },
  {
   "cell_type": "code",
   "execution_count": 19,
   "id": "fbb0551c",
   "metadata": {},
   "outputs": [
    {
     "data": {
      "text/plain": [
       "request_med_leave\n",
       "Somewhat easy                 635\n",
       "Very easy                     505\n",
       "No Response                   501\n",
       "I don't know                  378\n",
       "Somewhat difficult            357\n",
       "Neither easy nor difficult    344\n",
       "Very difficult                118\n",
       "Difficult                     112\n",
       "Name: count, dtype: int64"
      ]
     },
     "execution_count": 19,
     "metadata": {},
     "output_type": "execute_result"
    }
   ],
   "source": [
    "combined_data['request_med_leave'].value_counts()"
   ]
  },
  {
   "cell_type": "code",
   "execution_count": 20,
   "id": "91b7afe8",
   "metadata": {},
   "outputs": [
    {
     "name": "stdout",
     "output_type": "stream",
     "text": [
      "17.12\n",
      "21.53\n",
      "11.66\n",
      "3.8\n",
      "12.1\n",
      "4.0\n"
     ]
    }
   ],
   "source": [
    "# Look at a bar chart for comfort asking for a leave of absence\n",
    "\n",
    "all_veasy_leave = combined_data[(combined_data['request_med_leave'] == 'Very easy')].count()['individual']\n",
    "pct_veasy_leave = round(all_veasy_leave / total_ids * 100, 2)\n",
    "print(pct_veasy_leave)\n",
    "\n",
    "all_seasy_leave = combined_data[(combined_data['request_med_leave'] == 'Somewhat easy')].count()['individual']\n",
    "pct_seasy_leave = round(all_seasy_leave / total_ids * 100, 2)\n",
    "print(pct_seasy_leave)\n",
    "\n",
    "all_neither_leave = combined_data[(combined_data['request_med_leave'] == 'Neither easy nor difficult')].count()['individual']\n",
    "pct_neither_leave = round(all_neither_leave / total_ids * 100, 2)\n",
    "print(pct_neither_leave)\n",
    "\n",
    "all_diff_leave = combined_data[(combined_data['request_med_leave'] == 'Difficult')].count()['individual']\n",
    "pct_diff_leave = round(all_diff_leave / total_ids * 100, 2)\n",
    "print(pct_diff_leave)\n",
    "\n",
    "all_sdiff_leave = combined_data[(combined_data['request_med_leave'] == 'Somewhat difficult')].count()['individual']\n",
    "pct_sdiff_leave = round(all_sdiff_leave / total_ids * 100, 2)\n",
    "print(pct_sdiff_leave)\n",
    "\n",
    "all_vdiff_leave = combined_data[(combined_data['request_med_leave'] == 'Very difficult')].count()['individual']\n",
    "pct_vdiff_leave = round(all_vdiff_leave / total_ids * 100, 2)\n",
    "print(pct_vdiff_leave)\n"
   ]
  },
  {
   "cell_type": "code",
   "execution_count": 21,
   "id": "72a0e551",
   "metadata": {},
   "outputs": [
    {
     "name": "stdout",
     "output_type": "stream",
     "text": [
      "38.64\n",
      "19.9\n"
     ]
    }
   ],
   "source": [
    "easy_tendency = all_veasy_leave + all_seasy_leave\n",
    "pct_easy_tendency = round(easy_tendency / total_ids * 100, 2)\n",
    "print(pct_easy_tendency)\n",
    "\n",
    "diff_tendency = all_diff_leave + all_sdiff_leave + all_vdiff_leave\n",
    "pct_diff_tendency = round(diff_tendency / total_ids * 100, 2)\n",
    "print(pct_diff_tendency)"
   ]
  },
  {
   "cell_type": "code",
   "execution_count": 22,
   "id": "122575cb",
   "metadata": {},
   "outputs": [
    {
     "data": {
      "image/png": "[encoded data removed]",
      "text/plain": [
       "<Figure size 640x480 with 1 Axes>"
      ]
     },
     "metadata": {},
     "output_type": "display_data"
    }
   ],
   "source": [
    "# plot totals of leave of absence ease\n",
    "#leave_total = [pct_veasy_leave, pct_seasy_leave, pct_neither_leave, pct_diff_leave, pct_sdiff_leave, pct_vdiff_leave]\n",
    "#answers = ['Very easy', 'Somewhat easy', 'Neither easy nor difficult', 'Difficult', 'Somewhat difficult', 'Very difficult']\n",
    "leave_total = [pct_easy_tendency, pct_neither_leave, pct_diff_tendency]\n",
    "answers = ['Very easy or\\n Somewhat easy', 'Neither easy\\n nor difficult', 'Somewhat Difficult,\\n Difficult\\n or Very difficult']\n",
    "\n",
    "x_axis = np.arange(len(answers))\n",
    "\n",
    "plt.bar(x_axis, leave_total) \n",
    "\n",
    "plt.xticks(x_axis, answers) \n",
    "\n",
    "#plt.xticks(x_axis, answers, rotation='vertical') \n",
    "plt.title('How Difficult Would It Be To Ask For\\n A Leave Because Of A Mental Health Issue?')\n",
    "plt.xlabel(\"Respondent Answers\")\n",
    "plt.ylabel(\"Percentages of Total Respondents\\n from 2016, 2017, 2018 and 2019\")\n",
    "\n",
    "# Save an image of the chart in Resources\n",
    "plt.savefig(\"Figures/leave_comfort_total_bar.png\")\n",
    "\n",
    "plt.show()"
   ]
  },
  {
   "cell_type": "code",
   "execution_count": 23,
   "id": "2f4bab3c",
   "metadata": {},
   "outputs": [
    {
     "data": {
      "text/plain": [
       "array(['Very easy', 'Somewhat easy', 'Neither easy nor difficult',\n",
       "       'No Response', 'Very difficult', 'Somewhat difficult',\n",
       "       \"I don't know\"], dtype=object)"
      ]
     },
     "execution_count": 23,
     "metadata": {},
     "output_type": "execute_result"
    }
   ],
   "source": [
    "# Look at a bar chart for comfort asking for a leave of absence\n",
    "['Very easy', 'Somewhat easy', 'Neither easy nor difficult',\n",
    "       'No Response', 'Very difficult', 'Somewhat difficult',\n",
    "       \"I don't know\", 'Difficult']\n",
    "df_2016['request_med_leave'].unique()\n"
   ]
  },
  {
   "cell_type": "code",
   "execution_count": 24,
   "id": "0dd83d15",
   "metadata": {},
   "outputs": [
    {
     "name": "stdout",
     "output_type": "stream",
     "text": [
      "1428\n",
      "15.41\n",
      "19.54\n",
      "12.46\n",
      "0.0\n",
      "0\n",
      "13.87\n",
      "8.26\n",
      "34.94\n",
      "22.13\n"
     ]
    }
   ],
   "source": [
    "total_ids_2016 = len(df_2016)\n",
    "print(total_ids_2016)\n",
    "\n",
    "veasy_leave_2016 = df_2016[(df_2016['request_med_leave'] == 'Very easy')].count()['individual']\n",
    "pct_veasy_leave_2016 = round(veasy_leave_2016 / total_ids_2016 * 100, 2)\n",
    "print(pct_veasy_leave_2016)\n",
    "\n",
    "seasy_leave_2016 = df_2016[(df_2016['request_med_leave'] == 'Somewhat easy')].count()['individual']\n",
    "pct_seasy_leave_2016 = round(seasy_leave_2016 / total_ids_2016 * 100, 2)\n",
    "print(pct_seasy_leave_2016)\n",
    "\n",
    "neither_leave_2016 = df_2016[(df_2016['request_med_leave'] == 'Neither easy nor difficult')].count()['individual']\n",
    "pct_neither_leave_2016 = round(neither_leave_2016 / total_ids_2016 * 100, 2)\n",
    "print(pct_neither_leave_2016)\n",
    "\n",
    "diff_leave_2016 = df_2016[(df_2016['request_med_leave'] == 'Difficult')].count()['individual']\n",
    "pct_diff_leave_2016 = round(diff_leave_2016 / total_ids_2016 * 100, 2)\n",
    "print(pct_diff_leave_2016)\n",
    "print(diff_leave_2016)\n",
    "\n",
    "sdiff_leave_2016 = df_2016[(df_2016['request_med_leave'] == 'Somewhat difficult')].count()['individual']\n",
    "pct_sdiff_leave_2016 = round(sdiff_leave_2016 / total_ids_2016 * 100, 2)\n",
    "print(pct_sdiff_leave_2016)\n",
    "\n",
    "vdiff_leave_2016 = df_2016[(df_2016['request_med_leave'] == 'Very difficult')].count()['individual']\n",
    "pct_vdiff_leave_2016 = round(vdiff_leave_2016 / total_ids_2016 * 100, 2)\n",
    "print(pct_vdiff_leave_2016)\n",
    "\n",
    "########\n",
    "easy_tendency_2016 = veasy_leave_2016 + seasy_leave_2016\n",
    "pct_easy_tendency_2016 = round(easy_tendency_2016 / total_ids_2016 * 100, 2)\n",
    "print(pct_easy_tendency_2016)\n",
    "\n",
    "diff_tendency_2016 = diff_leave_2016 + sdiff_leave_2016 + vdiff_leave_2016\n",
    "pct_diff_tendency_2016 = round(diff_tendency_2016 / total_ids_2016 * 100, 2)\n",
    "print(pct_diff_tendency_2016)"
   ]
  },
  {
   "cell_type": "code",
   "execution_count": 25,
   "id": "87f4b3e5",
   "metadata": {},
   "outputs": [
    {
     "name": "stdout",
     "output_type": "stream",
     "text": [
      "754\n",
      "19.1\n",
      "21.75\n",
      "13.53\n",
      "7.56\n",
      "57\n",
      "9.42\n",
      "0.0\n",
      "40.85\n",
      "16.98\n"
     ]
    }
   ],
   "source": [
    "total_ids_2017 = len(df_2017)\n",
    "print(total_ids_2017)\n",
    "\n",
    "veasy_leave_2017 = df_2017[(df_2017['request_med_leave'] == 'Very easy')].count()['individual']\n",
    "pct_veasy_leave_2017 = round(veasy_leave_2017 / total_ids_2017 * 100, 2)\n",
    "print(pct_veasy_leave_2017)\n",
    "\n",
    "seasy_leave_2017 = df_2017[(df_2017['request_med_leave'] == 'Somewhat easy')].count()['individual']\n",
    "pct_seasy_leave_2017 = round(seasy_leave_2017 / total_ids_2017 * 100, 2)\n",
    "print(pct_seasy_leave_2017)\n",
    "\n",
    "neither_leave_2017 = df_2017[(df_2017['request_med_leave'] == 'Neither easy nor difficult')].count()['individual']\n",
    "pct_neither_leave_2017 = round(neither_leave_2017 / total_ids_2017 * 100, 2)\n",
    "print(pct_neither_leave_2017)\n",
    "\n",
    "diff_leave_2017 = df_2017[(df_2017['request_med_leave'] == 'Difficult')].count()['individual']\n",
    "pct_diff_leave_2017 = round(diff_leave_2017 / total_ids_2017 * 100, 2)\n",
    "print(pct_diff_leave_2017)\n",
    "print(diff_leave_2017)\n",
    "\n",
    "sdiff_leave_2017 = df_2017[(df_2017['request_med_leave'] == 'Somewhat difficult')].count()['individual']\n",
    "pct_sdiff_leave_2017 = round(sdiff_leave_2017 / total_ids_2017 * 100, 2)\n",
    "print(pct_sdiff_leave_2017)\n",
    "\n",
    "vdiff_leave_2017 = df_2017[(df_2017['request_med_leave'] == 'Very difficult')].count()['individual']\n",
    "pct_vdiff_leave_2017 = round(vdiff_leave_2017 / total_ids_2017 * 100, 2)\n",
    "print(pct_vdiff_leave_2017)\n",
    "\n",
    "########\n",
    "easy_tendency_2017 = veasy_leave_2017 + seasy_leave_2017\n",
    "pct_easy_tendency_2017 = round(easy_tendency_2017 / total_ids_2017 * 100, 2)\n",
    "print(pct_easy_tendency_2017)\n",
    "\n",
    "diff_tendency_2017 = diff_leave_2017 + sdiff_leave_2017 + vdiff_leave_2017\n",
    "pct_diff_tendency_2017 = round(diff_tendency_2017 / total_ids_2017 * 100, 2)\n",
    "print(pct_diff_tendency_2017)"
   ]
  },
  {
   "cell_type": "code",
   "execution_count": 26,
   "id": "c1be2772",
   "metadata": {},
   "outputs": [
    {
     "name": "stdout",
     "output_type": "stream",
     "text": [
      "417\n",
      "17.27\n",
      "26.14\n",
      "7.91\n",
      "8.63\n",
      "36\n",
      "9.35\n",
      "0.0\n",
      "43.41\n",
      "17.99\n"
     ]
    }
   ],
   "source": [
    "total_ids_2018 = len(df_2018)\n",
    "print(total_ids_2018)\n",
    "\n",
    "veasy_leave_2018 = df_2018[(df_2018['request_med_leave'] == 'Very easy')].count()['individual']\n",
    "pct_veasy_leave_2018 = round(veasy_leave_2018 / total_ids_2018 * 100, 2)\n",
    "print(pct_veasy_leave_2018)\n",
    "\n",
    "seasy_leave_2018 = df_2018[(df_2018['request_med_leave'] == 'Somewhat easy')].count()['individual']\n",
    "pct_seasy_leave_2018 = round(seasy_leave_2018 / total_ids_2018 * 100, 2)\n",
    "print(pct_seasy_leave_2018)\n",
    "\n",
    "neither_leave_2018 = df_2018[(df_2018['request_med_leave'] == 'Neither easy nor difficult')].count()['individual']\n",
    "pct_neither_leave_2018 = round(neither_leave_2018 / total_ids_2018 * 100, 2)\n",
    "print(pct_neither_leave_2018)\n",
    "\n",
    "diff_leave_2018 = df_2018[(df_2018['request_med_leave'] == 'Difficult')].count()['individual']\n",
    "pct_diff_leave_2018 = round(diff_leave_2018 / total_ids_2018 * 100, 2)\n",
    "print(pct_diff_leave_2018)\n",
    "print(diff_leave_2018)\n",
    "\n",
    "sdiff_leave_2018 = df_2018[(df_2018['request_med_leave'] == 'Somewhat difficult')].count()['individual']\n",
    "pct_sdiff_leave_2018 = round(sdiff_leave_2018 / total_ids_2018 * 100, 2)\n",
    "print(pct_sdiff_leave_2018)\n",
    "\n",
    "vdiff_leave_2018 = df_2018[(df_2018['request_med_leave'] == 'Very difficult')].count()['individual']\n",
    "pct_vdiff_leave_2018 = round(vdiff_leave_2018 / total_ids_2018 * 100, 2)\n",
    "print(pct_vdiff_leave_2018)\n",
    "\n",
    "########\n",
    "easy_tendency_2018 = veasy_leave_2018 + seasy_leave_2018\n",
    "pct_easy_tendency_2018 = round(easy_tendency_2018 / total_ids_2018 * 100, 2)\n",
    "print(pct_easy_tendency_2018)\n",
    "\n",
    "diff_tendency_2018 = diff_leave_2018 + sdiff_leave_2018 + vdiff_leave_2018\n",
    "pct_diff_tendency_2018 = round(diff_tendency_2018 / total_ids_2018 * 100, 2)\n",
    "print(pct_diff_tendency_2018)"
   ]
  },
  {
   "cell_type": "code",
   "execution_count": 27,
   "id": "b80d96c5",
   "metadata": {},
   "outputs": [
    {
     "name": "stdout",
     "output_type": "stream",
     "text": [
      "351\n",
      "19.66\n",
      "23.65\n",
      "8.83\n",
      "5.41\n",
      "19\n",
      "13.96\n",
      "0.0\n",
      "43.3\n",
      "19.37\n"
     ]
    }
   ],
   "source": [
    "total_ids_2019 = len(df_2019)\n",
    "print(total_ids_2019)\n",
    "\n",
    "veasy_leave_2019 = df_2019[(df_2019['request_med_leave'] == 'Very easy')].count()['individual']\n",
    "pct_veasy_leave_2019 = round(veasy_leave_2019 / total_ids_2019 * 100, 2)\n",
    "print(pct_veasy_leave_2019)\n",
    "\n",
    "seasy_leave_2019 = df_2019[(df_2019['request_med_leave'] == 'Somewhat easy')].count()['individual']\n",
    "pct_seasy_leave_2019 = round(seasy_leave_2019 / total_ids_2019 * 100, 2)\n",
    "print(pct_seasy_leave_2019)\n",
    "\n",
    "neither_leave_2019 = df_2019[(df_2019['request_med_leave'] == 'Neither easy nor difficult')].count()['individual']\n",
    "pct_neither_leave_2019 = round(neither_leave_2019 / total_ids_2019 * 100, 2)\n",
    "print(pct_neither_leave_2019)\n",
    "\n",
    "diff_leave_2019 = df_2019[(df_2019['request_med_leave'] == 'Difficult')].count()['individual']\n",
    "pct_diff_leave_2019 = round(diff_leave_2019 / total_ids_2019 * 100, 2)\n",
    "print(pct_diff_leave_2019)\n",
    "print(diff_leave_2019)\n",
    "\n",
    "sdiff_leave_2019 = df_2019[(df_2019['request_med_leave'] == 'Somewhat difficult')].count()['individual']\n",
    "pct_sdiff_leave_2019 = round(sdiff_leave_2019 / total_ids_2019 * 100, 2)\n",
    "print(pct_sdiff_leave_2019)\n",
    "\n",
    "vdiff_leave_2019 = df_2019[(df_2019['request_med_leave'] == 'Very difficult')].count()['individual']\n",
    "pct_vdiff_leave_2019 = round(vdiff_leave_2019 / total_ids_2019 * 100, 2)\n",
    "print(pct_vdiff_leave_2019)\n",
    "\n",
    "########\n",
    "easy_tendency_2019 = veasy_leave_2019 + seasy_leave_2019\n",
    "pct_easy_tendency_2019 = round(easy_tendency_2019 / total_ids_2019 * 100, 2)\n",
    "print(pct_easy_tendency_2019)\n",
    "\n",
    "diff_tendency_2019 = diff_leave_2019 + sdiff_leave_2019 + vdiff_leave_2019\n",
    "pct_diff_tendency_2019 = round(diff_tendency_2019 / total_ids_2019 * 100, 2)\n",
    "print(pct_diff_tendency_2019)"
   ]
  },
  {
   "cell_type": "code",
   "execution_count": 28,
   "id": "45bdd94f",
   "metadata": {},
   "outputs": [
    {
     "data": {
      "image/png": "[encoded data removed]",
      "text/plain": [
       "<Figure size 640x480 with 1 Axes>"
      ]
     },
     "metadata": {},
     "output_type": "display_data"
    }
   ],
   "source": [
    "year = [2016, 2017, 2018, 2019]\n",
    "easy_side = [pct_easy_tendency_2016, pct_easy_tendency_2017, pct_easy_tendency_2018, pct_easy_tendency_2019]  \n",
    "neutral = [pct_neither_leave_2016, pct_neither_leave_2017, pct_neither_leave_2018, pct_neither_leave_2019]  \n",
    "diff_side = [pct_diff_tendency_2016, pct_diff_tendency_2017, pct_diff_tendency_2018, pct_diff_tendency_2019]  \n",
    "\n",
    "x_axis = np.arange(len(year))\n",
    "\n",
    "easy, = plt.plot(x_axis, easy_side, label=\"Very Easy or Somewhat Easy\", marker='o')\n",
    "neut, = plt.plot(x_axis, neutral, label=\"Neither Easy nor Difficult\", marker='o' )\n",
    "diff, = plt.plot(x_axis, diff_side, label=\"Somewhat Difficult, Difficult, or Very Difficult\", marker='o' )\n",
    "\n",
    "[\"You can do it\",\"with a string array too\"]\n",
    "#plt.xticks(x_axis, answers, rotation='vertical')\n",
    "plt.grid()\n",
    "plt.xticks(x_axis, year) \n",
    "plt.title('How Difficult Would It Be To Ask For\\n A Leave Because Of A Mental Health Issue?')\n",
    "plt.xlabel(\"Year\")\n",
    "plt.ylabel(\"Percentages of Respondents\")\n",
    "plt.legend(handles=[easy, neut, diff], loc=\"best\")\n",
    "\n",
    "\n",
    "\n",
    "#plt.plot(x_axis, easy_side)\n",
    "#plt.plot(x_axis, neutral)\n",
    "#plt.plot(x_axis, diff_side)\n",
    "\n",
    "# Save an image of the chart in Resources\n",
    "plt.savefig(\"Figures/leave_comfort_timeline.png\")\n",
    "\n",
    "plt.show()"
   ]
  },
  {
   "cell_type": "code",
   "execution_count": 31,
   "id": "3fe6a300",
   "metadata": {},
   "outputs": [
    {
     "name": "stdout",
     "output_type": "stream",
     "text": [
      "12.809999999999999\n",
      "23.929999999999996\n"
     ]
    }
   ],
   "source": [
    "print(pct_easy_tendency_2016 - pct_diff_tendency_2016)\n",
    "print(pct_easy_tendency_2019 - pct_diff_tendency_2019)"
   ]
  },
  {
   "cell_type": "code",
   "execution_count": null,
   "id": "19f943b1",
   "metadata": {},
   "outputs": [],
   "source": []
  }
 ],
 "metadata": {
  "kernelspec": {
   "display_name": "Python 3 (ipykernel)",
   "language": "python",
   "name": "python3"
  },
  "language_info": {
   "codemirror_mode": {
    "name": "ipython",
    "version": 3
   },
   "file_extension": ".py",
   "mimetype": "text/x-python",
   "name": "python",
   "nbconvert_exporter": "python",
   "pygments_lexer": "ipython3",
   "version": "3.10.13"
  }
 },
 "nbformat": 4,
 "nbformat_minor": 5
}
